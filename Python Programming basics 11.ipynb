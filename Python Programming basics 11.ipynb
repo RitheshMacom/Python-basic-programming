{
 "cells": [
  {
   "cell_type": "markdown",
   "id": "8469deaa",
   "metadata": {},
   "source": [
    "## Basic Programming 11"
   ]
  },
  {
   "cell_type": "markdown",
   "id": "8f9f3d98",
   "metadata": {},
   "source": [
    "### 1. Write a Python program to find words which are greater than given length k?"
   ]
  },
  {
   "cell_type": "code",
   "execution_count": 4,
   "id": "0700a9f2",
   "metadata": {},
   "outputs": [
    {
     "name": "stdout",
     "output_type": "stream",
     "text": [
      "Enter the words: My name \n",
      "Enter the words: is \n",
      "Enter the words: saiteja\n",
      "Enter the words: Data scientist\n",
      "My name  saiteja Data scientist "
     ]
    }
   ],
   "source": [
    "k=3\n",
    "l=[]\n",
    "for i in range(4):\n",
    "    w=input('Enter the words: ')\n",
    "    l.append(w)\n",
    "for i in l:\n",
    "    if len(i)>k:\n",
    "        print(i, end=' ')"
   ]
  },
  {
   "cell_type": "markdown",
   "id": "48a41caa",
   "metadata": {},
   "source": [
    "### 2.Write a Python program for removing i-th character from a string?"
   ]
  },
  {
   "cell_type": "code",
   "execution_count": 9,
   "id": "62d95803",
   "metadata": {},
   "outputs": [
    {
     "name": "stdout",
     "output_type": "stream",
     "text": [
      "Your string : ineuron\n",
      "Enter the index : 0\n",
      "The new string :  neuron\n"
     ]
    }
   ],
   "source": [
    "def removingstring(str, i): \n",
    "  \n",
    "    for j in range(len(str)):\n",
    "        if j == i:\n",
    "            str = str.replace(str[i], \"\", 1)\n",
    "    return str      \n",
    "\n",
    "str = input(\"Your string : \")\n",
    "i = int(input(\"Enter the index : \"))      \n",
    "\n",
    "# Print the new string\n",
    "\n",
    "print(\"The new string : \", removingstring(str, i))"
   ]
  },
  {
   "cell_type": "markdown",
   "id": "8cc76e1e",
   "metadata": {},
   "source": [
    "### 3. Write a Python program to split and join a string"
   ]
  },
  {
   "cell_type": "code",
   "execution_count": 10,
   "id": "4ee3788e",
   "metadata": {},
   "outputs": [
    {
     "name": "stdout",
     "output_type": "stream",
     "text": [
      "['Ms', 'Dhoni', 'is', 'my', 'favorite', 'cricketer']\n",
      "Ms Dhoni is my favorite cricketer\n"
     ]
    }
   ],
   "source": [
    "my_str = 'Ms Dhoni is my favorite cricketer'\n",
    "split_str = my_str.split()#Splitting string\n",
    "print(split_str)\n",
    "join_str = ' '.join(split_str)#Joining string\n",
    "print(join_str)"
   ]
  },
  {
   "cell_type": "markdown",
   "id": "f740d9fc",
   "metadata": {},
   "source": [
    "### 4. Write a Python to check if a given string is binary string or not?"
   ]
  },
  {
   "cell_type": "code",
   "execution_count": 14,
   "id": "cc6d1521",
   "metadata": {},
   "outputs": [
    {
     "name": "stdout",
     "output_type": "stream",
     "text": [
      "Enter the string : 0101\n",
      "it's a binary\n"
     ]
    }
   ],
   "source": [
    "def checkBinary(str):\n",
    "    binary = '01'\n",
    "    for i in range(len(str)):\n",
    "        if str[i] not in binary:\n",
    "            print('Not Binary')\n",
    "            break\n",
    "    else:\n",
    "        print(\"it's a binary\")\n",
    "        \n",
    "str = input(\"Enter the string : \")\n",
    "checkBinary(str)"
   ]
  },
  {
   "cell_type": "markdown",
   "id": "2e2cc354",
   "metadata": {},
   "source": [
    "### 5. Write a Python program to find uncommon words from two Strings?"
   ]
  },
  {
   "cell_type": "code",
   "execution_count": 26,
   "id": "88677469",
   "metadata": {},
   "outputs": [
    {
     "name": "stdout",
     "output_type": "stream",
     "text": [
      "t e j "
     ]
    }
   ],
   "source": [
    "a='teja'\n",
    "b='gummala'\n",
    "\n",
    "for i in a:\n",
    "    if i not in b:\n",
    "        print(i,end=' ')"
   ]
  },
  {
   "cell_type": "markdown",
   "id": "80f1cafe",
   "metadata": {},
   "source": [
    "### 6.Write a Python to find all duplicate characters in string?"
   ]
  },
  {
   "cell_type": "code",
   "execution_count": 27,
   "id": "a3d67b07",
   "metadata": {},
   "outputs": [
    {
     "name": "stdout",
     "output_type": "stream",
     "text": [
      "Enter the string a : gummala saiteja\n"
     ]
    },
    {
     "data": {
      "text/plain": [
       "['m', 'a']"
      ]
     },
     "execution_count": 27,
     "metadata": {},
     "output_type": "execute_result"
    }
   ],
   "source": [
    "str = input(\"Enter the string a : \").lower()\n",
    "duplicate = []\n",
    "\n",
    "for i in str:\n",
    "    if str.count(i) > 1 :\n",
    "        if i not in duplicate:\n",
    "            duplicate.append(i)\n",
    "        \n",
    "duplicate"
   ]
  },
  {
   "cell_type": "markdown",
   "id": "4e0ac6f3",
   "metadata": {},
   "source": [
    "### 7. Write a Python Program to check if a string contains any special character?"
   ]
  },
  {
   "cell_type": "code",
   "execution_count": 33,
   "id": "cddbc193",
   "metadata": {},
   "outputs": [
    {
     "name": "stdout",
     "output_type": "stream",
     "text": [
      "It contains special character\n"
     ]
    }
   ],
   "source": [
    "special_characters = '!@#$%^&*()-+?_=,<>/'\n",
    "my_str = 'S#teja<@>'\n",
    "\n",
    "if any(i in special_characters for i in my_str):\n",
    "    print(\"It contains special character\")\n",
    "else:\n",
    "    print(\"it doesn't contains special character\")"
   ]
  },
  {
   "cell_type": "code",
   "execution_count": null,
   "id": "cfeec2ec",
   "metadata": {},
   "outputs": [],
   "source": []
  }
 ],
 "metadata": {
  "kernelspec": {
   "display_name": "Python 3",
   "language": "python",
   "name": "python3"
  },
  "language_info": {
   "codemirror_mode": {
    "name": "ipython",
    "version": 3
   },
   "file_extension": ".py",
   "mimetype": "text/x-python",
   "name": "python",
   "nbconvert_exporter": "python",
   "pygments_lexer": "ipython3",
   "version": "3.8.8"
  }
 },
 "nbformat": 4,
 "nbformat_minor": 5
}
