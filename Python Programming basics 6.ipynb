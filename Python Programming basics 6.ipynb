{
 "cells": [
  {
   "cell_type": "markdown",
   "id": "73c71ca2",
   "metadata": {},
   "source": [
    "## Basic Programming 6\n"
   ]
  },
  {
   "cell_type": "markdown",
   "id": "d276894e",
   "metadata": {},
   "source": [
    "### 1.Write a Python Program to Display Fibonacci Sequence Using Recursion?"
   ]
  },
  {
   "cell_type": "code",
   "execution_count": 2,
   "id": "845d0806",
   "metadata": {},
   "outputs": [
    {
     "name": "stdout",
     "output_type": "stream",
     "text": [
      "Enter Positive number12\n",
      "0\n",
      "1\n",
      "1\n",
      "2\n",
      "3\n",
      "5\n",
      "8\n",
      "13\n",
      "21\n",
      "34\n",
      "55\n",
      "89\n"
     ]
    }
   ],
   "source": [
    "def firec(n):\n",
    "    if n <= 1:\n",
    "        return n\n",
    "    else:\n",
    "        return(firec(n-1) + firec(n-2))\n",
    "N = int(input(\"Enter Positive number\"))\n",
    "\n",
    "for i in range(N):\n",
    "    print(firec(i))"
   ]
  },
  {
   "cell_type": "markdown",
   "id": "1f733ace",
   "metadata": {},
   "source": [
    "### 2.Write a Python Program to Find Factorial of Number Using Recursion?"
   ]
  },
  {
   "cell_type": "code",
   "execution_count": 3,
   "id": "74592488",
   "metadata": {},
   "outputs": [
    {
     "name": "stdout",
     "output_type": "stream",
     "text": [
      "Enter a Number to find factorial : 6\n",
      "Factorial of 6 is 720\n"
     ]
    }
   ],
   "source": [
    "def fact(n):  \n",
    "    if n == 1:\n",
    "        return n\n",
    "    else:\n",
    "        return n * fact(n-1)   \n",
    "        \n",
    "\n",
    "num = int(input(\"Enter a Number to find factorial : \"))\n",
    "if num < 0:\n",
    "    print(\"Can not calculate Factorial of a negative number\")        \n",
    "elif num == 0:\n",
    "    print(\"Factorial of zero is 1\")\n",
    "else:\n",
    "    print(\"Factorial of {} is {}\".format(num, fact(num)))"
   ]
  },
  {
   "cell_type": "markdown",
   "id": "af402807",
   "metadata": {},
   "source": [
    "### 3. Write a Python Program to calculate your Body Mass Index?"
   ]
  },
  {
   "cell_type": "code",
   "execution_count": 4,
   "id": "5de300ca",
   "metadata": {},
   "outputs": [
    {
     "name": "stdout",
     "output_type": "stream",
     "text": [
      "Enter height in meter1.7\n",
      "Enter weight in KG68\n",
      "Your BMI 23.529411764705884\n"
     ]
    }
   ],
   "source": [
    "Height = float(input(\"Enter height in meter\"))\n",
    "Weight = float(input(\"Enter weight in KG\"))\n",
    "\n",
    "BMI = Weight/(Height**2)\n",
    "\n",
    "print (\"Your BMI\", BMI)"
   ]
  },
  {
   "cell_type": "markdown",
   "id": "6e7165d8",
   "metadata": {},
   "source": [
    "### 4.Write a Python Program to calculate the natural logarithm of any number?"
   ]
  },
  {
   "cell_type": "code",
   "execution_count": 5,
   "id": "cc844399",
   "metadata": {},
   "outputs": [
    {
     "name": "stdout",
     "output_type": "stream",
     "text": [
      "Enter a number : 5\n",
      "Log of 5 is 1.6094379124341003\n"
     ]
    }
   ],
   "source": [
    "import math\n",
    "x = int(input((\"Enter a number : \")))\n",
    "log = math.log(x)\n",
    "print(\"Log of {} is {}\".format(x, log))"
   ]
  },
  {
   "cell_type": "markdown",
   "id": "e2b92933",
   "metadata": {},
   "source": [
    "### 5.Write a Python Program for cube sum of first n natural numbers?"
   ]
  },
  {
   "cell_type": "code",
   "execution_count": 6,
   "id": "49eae499",
   "metadata": {},
   "outputs": [
    {
     "data": {
      "text/plain": [
       "2025"
      ]
     },
     "execution_count": 6,
     "metadata": {},
     "output_type": "execute_result"
    }
   ],
   "source": [
    "def cubesum(n):\n",
    "    a=0\n",
    "    for i in range(n+1):\n",
    "        a=a+(i**3)\n",
    "    return(a)\n",
    "cubesum(9)"
   ]
  },
  {
   "cell_type": "code",
   "execution_count": null,
   "id": "ec892d9c",
   "metadata": {},
   "outputs": [],
   "source": []
  }
 ],
 "metadata": {
  "kernelspec": {
   "display_name": "Python 3",
   "language": "python",
   "name": "python3"
  },
  "language_info": {
   "codemirror_mode": {
    "name": "ipython",
    "version": 3
   },
   "file_extension": ".py",
   "mimetype": "text/x-python",
   "name": "python",
   "nbconvert_exporter": "python",
   "pygments_lexer": "ipython3",
   "version": "3.8.8"
  }
 },
 "nbformat": 4,
 "nbformat_minor": 5
}
