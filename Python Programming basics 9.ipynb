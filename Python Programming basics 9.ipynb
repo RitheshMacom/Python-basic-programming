{
 "cells": [
  {
   "cell_type": "markdown",
   "id": "01536673",
   "metadata": {},
   "source": [
    "## Basic Programming 9"
   ]
  },
  {
   "cell_type": "markdown",
   "id": "a7667ece",
   "metadata": {},
   "source": [
    "### 1. Write a Python program to check if the given number is a Disarium Number?"
   ]
  },
  {
   "cell_type": "code",
   "execution_count": 1,
   "id": "7c861354",
   "metadata": {},
   "outputs": [
    {
     "name": "stdout",
     "output_type": "stream",
     "text": [
      "Enter the number :122\n",
      "122 Number is not Disarium\n"
     ]
    }
   ],
   "source": [
    "#A number is said to be Disarium Number when the sum of it's digit raised to the\n",
    "#power of their respective positions become equal to the number itself\n",
    "def isDisarium(num):\n",
    "    sum = 0\n",
    "    while(num>0):\n",
    "        dgcnt= len(str(num))\n",
    "        digit = num%10\n",
    "        sum= sum + digit**dgcnt   \n",
    "        dgcnt-=1\n",
    "        num = num//10\n",
    "    return sum\n",
    "\n",
    "num = int(input(\"Enter the number :\"))\n",
    "\n",
    "\n",
    "sum = isDisarium(num)\n",
    "if sum == num:\n",
    "    print(num,\"Number is Disarium\")\n",
    "else:\n",
    "    print(num,\"Number is not Disarium\")"
   ]
  },
  {
   "cell_type": "markdown",
   "id": "958c099d",
   "metadata": {},
   "source": [
    "### 2. Write a Python program to print all disarium numbers between 1 to 100?"
   ]
  },
  {
   "cell_type": "code",
   "execution_count": 2,
   "id": "482613b9",
   "metadata": {},
   "outputs": [
    {
     "name": "stdout",
     "output_type": "stream",
     "text": [
      "Disarium numbers in range 1 to 100\n",
      "[1, 2, 3, 4, 5, 6, 7, 8, 9, 89]\n"
     ]
    }
   ],
   "source": [
    "def isDisarium(num):\n",
    "    sum = 0\n",
    "    while(num>0):\n",
    "        dgcnt= len(str(num))\n",
    "        digit = num%10\n",
    "        sum= sum + digit**dgcnt   \n",
    "        dgcnt-=1\n",
    "        num = num//10\n",
    "    return sum\n",
    "\n",
    "print(\"Disarium numbers in range 1 to 100\")\n",
    "disariumNum = []\n",
    "\n",
    "for i in range(1,101):\n",
    "    sum = 0\n",
    "    sum = isDisarium(i)\n",
    "    if sum == i:\n",
    "        disariumNum.append(i)        \n",
    "print(disariumNum)"
   ]
  },
  {
   "cell_type": "markdown",
   "id": "edc8eb1e",
   "metadata": {},
   "source": [
    "### 3. Write a Python program to check if the given number is Happy Number?"
   ]
  },
  {
   "cell_type": "code",
   "execution_count": 3,
   "id": "14c52849",
   "metadata": {},
   "outputs": [
    {
     "name": "stdout",
     "output_type": "stream",
     "text": [
      "Enter the number: 13\n",
      "Number 13 is happy number\n"
     ]
    }
   ],
   "source": [
    "#In number theory,a happy is a number which eventually reaches 1 when replaced by the\n",
    "#sum of the sqyare of each digit.For instance,13 is a happy number.\n",
    "def happy(num):\n",
    "    s=0\n",
    "    r=0\n",
    "    while num>0:\n",
    "        r=num%10\n",
    "        s=s+r*r\n",
    "        num=num//10\n",
    "    return s   \n",
    "\n",
    "num=int(input('Enter the number: '))\n",
    "result=num\n",
    "\n",
    "while ((result!=1)&(result!=4)):\n",
    "    result= happy(result)\n",
    "    \n",
    "    if result==1:\n",
    "        print(f'Number {num} is happy number')\n",
    "    elif result==4:\n",
    "        print(f'Number {num} is not happy number')"
   ]
  },
  {
   "cell_type": "markdown",
   "id": "db1ba115",
   "metadata": {},
   "source": [
    "### 4.Write a Python program to print all happy numbers between 1 and 100?"
   ]
  },
  {
   "cell_type": "code",
   "execution_count": 4,
   "id": "a94a295f",
   "metadata": {},
   "outputs": [
    {
     "name": "stdout",
     "output_type": "stream",
     "text": [
      "1 7 10 13 19 23 28 31 32 44 49 68 70 79 82 86 91 94 97 100 "
     ]
    }
   ],
   "source": [
    "def happy_number(num):\n",
    "    s=rem=0\n",
    "    while(num > 0):\n",
    "        rem = num % 10\n",
    "        s = s + (rem*rem)\n",
    "        num = num//10\n",
    "    return s\n",
    "for i in range(1,101):\n",
    "    result=i\n",
    "    \n",
    "    while(result!=1 and result!=4):\n",
    "        result=happy_number(result)\n",
    "    \n",
    "    if(result==1):\n",
    "        print(i,end=' ')"
   ]
  },
  {
   "cell_type": "markdown",
   "id": "9ac0bfac",
   "metadata": {},
   "source": [
    "### 5.Write a Python program to determine whether the given number is a Harshad Number?"
   ]
  },
  {
   "cell_type": "code",
   "execution_count": 5,
   "id": "2f20c1b5",
   "metadata": {},
   "outputs": [
    {
     "name": "stdout",
     "output_type": "stream",
     "text": [
      "Enter the number :45\n",
      "45 Is a Harshad number\n"
     ]
    }
   ],
   "source": [
    "#If a number is divisible by the sum of its digits, \n",
    "#then it will be known as a Harshad Number\n",
    "#45 => 4+5 = 9, 45/9 = 5,45%3=0\n",
    "def digitSum(num):\n",
    "    sum = 0\n",
    "    while(num>0):\n",
    "        digit = num%10\n",
    "        sum= sum + digit       \n",
    "        num = num//10\n",
    "    return sum\n",
    "\n",
    "num = int(input(\"Enter the number :\"))\n",
    "sum = digitSum(num)\n",
    "\n",
    "if num % sum == 0:\n",
    "    print(num,\"Is a Harshad number\")\n",
    "else:\n",
    "    print(num,\"Is not a Harshad number\")"
   ]
  },
  {
   "cell_type": "markdown",
   "id": "41964037",
   "metadata": {},
   "source": [
    "### 6. Write a Python program to print all pronic numbers between 1 and 100?"
   ]
  },
  {
   "cell_type": "code",
   "execution_count": 6,
   "id": "c336d3f5",
   "metadata": {},
   "outputs": [
    {
     "name": "stdout",
     "output_type": "stream",
     "text": [
      "2\n",
      "6\n",
      "12\n",
      "20\n",
      "30\n",
      "42\n",
      "56\n",
      "72\n",
      "90\n"
     ]
    }
   ],
   "source": [
    "#The pronic number is a product of two consecutive integers of the form : n(n+1)\n",
    "def pronic_number(num):\n",
    "    flag = False\n",
    "    for i in range(1,num+1):\n",
    "        if(i*(i+1) == num):\n",
    "            flag=True\n",
    "            break\n",
    "    return flag\n",
    "\n",
    "for i in range(1,101):\n",
    "    if(pronic_number(i)):\n",
    "        print(i)"
   ]
  },
  {
   "cell_type": "code",
   "execution_count": null,
   "id": "ba1acc68",
   "metadata": {},
   "outputs": [],
   "source": []
  }
 ],
 "metadata": {
  "kernelspec": {
   "display_name": "Python 3",
   "language": "python",
   "name": "python3"
  },
  "language_info": {
   "codemirror_mode": {
    "name": "ipython",
    "version": 3
   },
   "file_extension": ".py",
   "mimetype": "text/x-python",
   "name": "python",
   "nbconvert_exporter": "python",
   "pygments_lexer": "ipython3",
   "version": "3.8.8"
  }
 },
 "nbformat": 4,
 "nbformat_minor": 5
}
