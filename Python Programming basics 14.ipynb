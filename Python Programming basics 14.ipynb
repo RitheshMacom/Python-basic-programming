{
 "cells": [
  {
   "cell_type": "markdown",
   "id": "0d770108",
   "metadata": {},
   "source": [
    "## Basics 14"
   ]
  },
  {
   "cell_type": "markdown",
   "id": "0a73ad2c",
   "metadata": {},
   "source": [
    "### 1) Define a class with a generator which can iterate the numbers, which are divisible by 7, between a given range 0 and n."
   ]
  },
  {
   "cell_type": "code",
   "execution_count": 1,
   "id": "e6a70427",
   "metadata": {},
   "outputs": [
    {
     "name": "stdout",
     "output_type": "stream",
     "text": [
      "enter n : 49\n",
      "0\n",
      "7\n",
      "14\n",
      "21\n",
      "28\n",
      "35\n",
      "42\n"
     ]
    }
   ],
   "source": [
    "def putNumbers(n): \n",
    "    i = 0 \n",
    "    while i < n:\n",
    "        j = i\n",
    "        i += 1 \n",
    "        if j % 7 == 0:\n",
    "            yield j\n",
    "n = int(input('enter n : '))\n",
    "for i in putNumbers(n): \n",
    "    print(i)"
   ]
  },
  {
   "cell_type": "markdown",
   "id": "6489bf11",
   "metadata": {},
   "source": [
    "### 2) Write a program to compute the frequency of the words from the input. The output should output after sorting the key alphanumerically.\n",
    "\n",
    "#### Suppose the following input is supplied to the program:\n",
    "\n",
    "#### New to Python or choosing between Python 2 and Python 3? Read Python 2 or Python 3.\n",
    "\n",
    "#### Then, the output should be:\n",
    "\n",
    "#### 2:2\n",
    "\n",
    "#### 3.:1\n",
    "\n",
    "#### 3?:1\n",
    "\n",
    "#### New:1\n",
    "\n",
    "#### Python:5\n",
    "\n",
    "#### Read:1\n",
    "\n",
    "#### and:1\n",
    "\n",
    "#### between:1\n",
    "\n",
    "#### choosing:1\n",
    "\n",
    "#### or:2\n",
    "\n",
    "#### to:1"
   ]
  },
  {
   "cell_type": "code",
   "execution_count": 5,
   "id": "1068a1af",
   "metadata": {},
   "outputs": [
    {
     "name": "stdout",
     "output_type": "stream",
     "text": [
      "2:2\n",
      "3.:1\n",
      "3?:1\n",
      "New:1\n",
      "Python:5\n",
      "Read:1\n",
      "and:1\n",
      "between:1\n",
      "choosing:1\n",
      "or:2\n",
      "to:1\n"
     ]
    }
   ],
   "source": [
    "my_str = 'New to Python or choosing between Python 2 and Python 3? Read Python 2 or Python 3.'\n",
    "splt = my_str.split()\n",
    "word = sorted(set(splt))     # split words are stored and sorted as a set\n",
    "\n",
    "for i in word:\n",
    "    print(\"{0}:{1}\".format(i,splt.count(i)))"
   ]
  },
  {
   "cell_type": "markdown",
   "id": "a46f4c13",
   "metadata": {},
   "source": [
    "### 3) Define a class Person and its two child classes: Male and Female. All classes have a method \"getGender\" which can print \"Male\" for Male class and \"Female\" for Female class."
   ]
  },
  {
   "cell_type": "code",
   "execution_count": 7,
   "id": "60fc22eb",
   "metadata": {},
   "outputs": [
    {
     "name": "stdout",
     "output_type": "stream",
     "text": [
      "Male\n",
      "Female\n"
     ]
    }
   ],
   "source": [
    "class Person(object):\n",
    "    def getGender( self ):\n",
    "        return \"Unknown\"\n",
    "\n",
    "class Male( Person ):\n",
    "    def getGender( self ):\n",
    "        return \"Male\"\n",
    "\n",
    "class Female( Person ):\n",
    "    def getGender( self ):\n",
    "        return \"Female\"\n",
    "\n",
    "objMale = Male()\n",
    "objFemale= Female()\n",
    "print(objMale.getGender())\n",
    "print(objFemale.getGender())"
   ]
  },
  {
   "cell_type": "markdown",
   "id": "e0def145",
   "metadata": {},
   "source": [
    "### 4)Please write a program to generate all sentences where subject is in [\"I\", \"You\"] and verb is in [\"Play\", \"Love\"] and the object is in [\"Hockey\",\"Football\"]. "
   ]
  },
  {
   "cell_type": "code",
   "execution_count": 8,
   "id": "fc49a519",
   "metadata": {},
   "outputs": [
    {
     "name": "stdout",
     "output_type": "stream",
     "text": [
      "I Play Hockey\n",
      "I Play Football\n",
      "I Love Hockey\n",
      "I Love Football\n",
      "You Play Hockey\n",
      "You Play Football\n",
      "You Love Hockey\n",
      "You Love Football\n"
     ]
    }
   ],
   "source": [
    "subject=[\"I\", \"You\"]\n",
    "verb=[\"Play\", \"Love\"]\n",
    "obj=[\"Hockey\",\"Football\"]\n",
    "\n",
    "# Use list comprehension instead of looping over each of the predicates\n",
    "sentence_list = [(sub+\" \"+ vb + \" \" + ob) for sub in subject for vb in verb for ob in obj]\n",
    "for sentence in sentence_list:\n",
    "    print(sentence)"
   ]
  },
  {
   "cell_type": "markdown",
   "id": "a33f6866",
   "metadata": {},
   "source": [
    "### 5) Please write a program to compress and decompress the string \"hello world!hello world!hello world!hello world!"
   ]
  },
  {
   "cell_type": "code",
   "execution_count": 9,
   "id": "fae2437b",
   "metadata": {},
   "outputs": [
    {
     "name": "stdout",
     "output_type": "stream",
     "text": [
      "size at initial:-  80\n",
      "Size after compress:-  56\n",
      "Size of after decompress 80\n",
      "b'hello world!hello world!hello world!hello world'\n"
     ]
    }
   ],
   "source": [
    "#we can use zlib mdule to compress and decompress any string\n",
    "my_str = b'hello world!hello world!hello world!hello world'\n",
    "import sys\n",
    "import zlib\n",
    "print('size at initial:- ',sys.getsizeof(my_str))\n",
    "com = zlib.compress(my_str)\n",
    "print('Size after compress:- ', sys.getsizeof(com))\n",
    "decom = zlib.decompress(com)\n",
    "print('Size of after decompress', sys.getsizeof(decom))\n",
    "print(decom)"
   ]
  },
  {
   "cell_type": "markdown",
   "id": "d1c66acb",
   "metadata": {},
   "source": [
    "### 6) Please write a binary search function which searches an item in a sorted list. The function should return the index of element to be searched in the list."
   ]
  },
  {
   "cell_type": "code",
   "execution_count": 10,
   "id": "ec8ecbc5",
   "metadata": {},
   "outputs": [
    {
     "name": "stdout",
     "output_type": "stream",
     "text": [
      "First occurrence of 4 is present at 2\n"
     ]
    }
   ],
   "source": [
    "from bisect import bisect_left\n",
    "  \n",
    "def BinarySearch(a, x):\n",
    "    i = bisect_left(a, x)\n",
    "    if i != len(a) and a[i] == x:\n",
    "        return i\n",
    "    else:\n",
    "        return -1 \n",
    "\n",
    "a = [1, 2, 4, 4, 8]\n",
    "x = int(4)\n",
    "res = BinarySearch(a, x)\n",
    "if res == -1:\n",
    "    print(x, \"is absent\")\n",
    "else:\n",
    "    print(\"First occurrence of\", x, \"is present at\", res)"
   ]
  },
  {
   "cell_type": "code",
   "execution_count": null,
   "id": "cf2f147b",
   "metadata": {},
   "outputs": [],
   "source": []
  }
 ],
 "metadata": {
  "kernelspec": {
   "display_name": "Python 3",
   "language": "python",
   "name": "python3"
  },
  "language_info": {
   "codemirror_mode": {
    "name": "ipython",
    "version": 3
   },
   "file_extension": ".py",
   "mimetype": "text/x-python",
   "name": "python",
   "nbconvert_exporter": "python",
   "pygments_lexer": "ipython3",
   "version": "3.8.8"
  }
 },
 "nbformat": 4,
 "nbformat_minor": 5
}
