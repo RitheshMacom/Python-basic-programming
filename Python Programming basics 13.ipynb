{
 "cells": [
  {
   "cell_type": "markdown",
   "id": "e03e64b1",
   "metadata": {},
   "source": [
    "### Basic Programming 13"
   ]
  },
  {
   "cell_type": "markdown",
   "id": "dae142c2",
   "metadata": {},
   "source": [
    "### 1. Write a program that calculates and prints the value according to the given formula:\n",
    "\n",
    "### Q = Square root of [(2 C D)/H]\n",
    "\n",
    "### Following are the fixed values of C and H:\n",
    "\n",
    "### C is 50. H is 30.\n",
    "\n",
    "### D is the variable whose values should be input to your program in a comma-separated sequence.\n",
    "\n",
    "### Example\n",
    "\n",
    "### Let us assume the following comma separated input sequence is given to the program:\n",
    "\n",
    "### 100,150,180\n",
    "\n",
    "### The output of the program should be:\n",
    "\n",
    "### 18,22,24"
   ]
  },
  {
   "cell_type": "code",
   "execution_count": 1,
   "id": "e97a3f41",
   "metadata": {},
   "outputs": [
    {
     "name": "stdout",
     "output_type": "stream",
     "text": [
      "Provide D in with comma separated: 120,435,109\n",
      "20,38,19\n"
     ]
    }
   ],
   "source": [
    "import math\n",
    "\n",
    "numbers = input(\"Provide D in with comma separated: \")\n",
    "numbers = numbers.split(',')\n",
    "\n",
    "result_list = []\n",
    "result_string = ''\n",
    "for D in numbers:\n",
    "    Q = round(math.sqrt(2 * 50 * int(D) / 30))\n",
    "    result_list.append(str(Q))\n",
    "    \n",
    "print(','.join(result_list))"
   ]
  },
  {
   "cell_type": "markdown",
   "id": "d6a20ec7",
   "metadata": {},
   "source": [
    "### 2. Write a program which takes 2 digits, X,Y as input and generates a 2-dimensional array. \n",
    "### The element value in the i-th row and j-th column of the array should be i*j.\n",
    "### Note: i=0,1.., X-1; j=0,1,¡Y-1.\n",
    "\n",
    "### Example\n",
    "### Suppose the following inputs are given to the program:\n",
    "### 3,5\n",
    "### Then, the output of the program should be:\n",
    "### [[0, 0, 0, 0, 0], [0, 1, 2, 3, 4], [0, 2, 4, 6, 8]]"
   ]
  },
  {
   "cell_type": "code",
   "execution_count": 4,
   "id": "51b0e80a",
   "metadata": {},
   "outputs": [
    {
     "name": "stdout",
     "output_type": "stream",
     "text": [
      "Enter the value of X: 7\n",
      "Enter the value of Y: 9\n"
     ]
    },
    {
     "data": {
      "text/plain": [
       "[[0, 0, 0, 0, 0, 0, 0, 0, 0],\n",
       " [0, 1, 2, 3, 4, 5, 6, 7, 8],\n",
       " [0, 2, 4, 6, 8, 10, 12, 14, 16],\n",
       " [0, 3, 6, 9, 12, 15, 18, 21, 24],\n",
       " [0, 4, 8, 12, 16, 20, 24, 28, 32],\n",
       " [0, 5, 10, 15, 20, 25, 30, 35, 40],\n",
       " [0, 6, 12, 18, 24, 30, 36, 42, 48]]"
      ]
     },
     "execution_count": 4,
     "metadata": {},
     "output_type": "execute_result"
    }
   ],
   "source": [
    "x=int(input('Enter the value of X: '))\n",
    "y=int(input('Enter the value of Y: '))\n",
    "\n",
    "l1=[]\n",
    "for i in range(x):\n",
    "    l2=[]\n",
    "    for j in range(y):\n",
    "        l2.append(i*j)\n",
    "    l1.append(l2)\n",
    "l1"
   ]
  },
  {
   "cell_type": "markdown",
   "id": "8c8facb5",
   "metadata": {},
   "source": [
    "### 3. Write a program that accepts a comma separated sequence of words as input and prints the words in a comma-separated sequence after sorting them alphabetically.\n",
    "\n",
    "\n",
    "### Suppose the following input is supplied to the program:\n",
    "### without,hello,bag,world\n",
    "### Then, the output should be:\n",
    "### bag,hello,without,world"
   ]
  },
  {
   "cell_type": "code",
   "execution_count": 6,
   "id": "cc17e69a",
   "metadata": {},
   "outputs": [
    {
     "name": "stdout",
     "output_type": "stream",
     "text": [
      "Enter comma seperated words water,has,bubble,circle\n",
      "bubble,circle,has,water\n"
     ]
    }
   ],
   "source": [
    "items=[x for x in input('Enter comma seperated words ').split(',')]\n",
    "items.sort()    \n",
    "print(','.join(items))"
   ]
  },
  {
   "cell_type": "markdown",
   "id": "23173722",
   "metadata": {},
   "source": [
    "### 4.Write a program that accepts a sequence of whitespace separated words as input and prints the words after removing all duplicate words and sorting them alphanumerically.\n",
    "\n",
    "### Suppose the following input is supplied to the program:\n",
    "\n",
    "### hello world and practice makes perfect and hello world again\n",
    "\n",
    "### Then, the output should be:\n",
    "\n",
    "### again and hello makes perfect practice world"
   ]
  },
  {
   "cell_type": "code",
   "execution_count": 7,
   "id": "8b18d7b3",
   "metadata": {},
   "outputs": [
    {
     "name": "stdout",
     "output_type": "stream",
     "text": [
      "Enter the sequence of white separated words: hello world and practice makes perfect and  hello world again\n",
      " again and hello makes perfect practice world\n"
     ]
    }
   ],
   "source": [
    "s=input('Enter the sequence of white separated words: ').split(' ')\n",
    "print(' '.join(sorted(set(s))))"
   ]
  },
  {
   "cell_type": "markdown",
   "id": "c0b930b9",
   "metadata": {},
   "source": [
    "### 5. Write a program that accepts a sentence and calculate the number od letters and digits.\n",
    "\n",
    "### suppose the Following input is supplied to the program:\n",
    "### hello world! 123\n",
    "### Then,the output should be:\n",
    "### LETTERS 10\n",
    "### DIGITS 3"
   ]
  },
  {
   "cell_type": "code",
   "execution_count": 9,
   "id": "a0c9e3f4",
   "metadata": {},
   "outputs": [
    {
     "name": "stdout",
     "output_type": "stream",
     "text": [
      "Input a string : hello world! 123\n",
      "Letters 10\n",
      "Digits 3\n"
     ]
    }
   ],
   "source": [
    "s = input(\"Input a string : \")\n",
    "digits=letters=0\n",
    "for c in s:\n",
    "    if c.isdigit():\n",
    "        digits += 1\n",
    "    elif c.isalpha():\n",
    "        letters += 1\n",
    "    else:\n",
    "        pass\n",
    "print(\"Letters\", letters)\n",
    "print(\"Digits\", digits)"
   ]
  },
  {
   "cell_type": "markdown",
   "id": "fc4ba0d3",
   "metadata": {},
   "source": [
    "### 6.A website requires the users to input username and password to register. Write a program to check the validity of password input by users.\n",
    "### Following are the criteria for checking the password:\n",
    "#### 1. At least 1 letter between [a-z]\n",
    "#### 2. At least 1 number between [0-9]\n",
    "#### 1. At least 1 letter between [A-Z]\n",
    "#### 3. At least 1 character from [$#@]\n",
    "#### 4. Minimum length of transaction password: 6\n",
    "#### 5. Maximum length of transaction password: 12\n",
    "### Your program should accept a sequence of comma separated passwords and will check them according to the above criteria. Passwords that match the criteria are to be printed, each separated by a comma.\n",
    "### Example\n",
    "### If the following passwords are given as input to the program:\n",
    "### ABd1234@1,a F1#,2w3E*,2We3345\n",
    "### Then, the output of the program should be:\n",
    "### ABd1234@1"
   ]
  },
  {
   "cell_type": "code",
   "execution_count": 11,
   "id": "8cf7e749",
   "metadata": {},
   "outputs": [
    {
     "name": "stdout",
     "output_type": "stream",
     "text": [
      "Type the passwords in comma separated form: ABd1234@1,a F1#,2w3E*,2We3345\n",
      "ABd1234@1\n"
     ]
    }
   ],
   "source": [
    "import re\n",
    "\n",
    "pswd = input(\"Type the passwords in comma separated form: \").split(\",\")\n",
    "\n",
    "valid = []\n",
    "for i in pswd:\n",
    "    \n",
    "    if len(i) < 6 or len(i) > 12:\n",
    "        continue\n",
    "\n",
    "    elif not re.search(\"([a-z])+\", i):\n",
    "        continue\n",
    "\n",
    "    elif not re.search(\"([A-Z])+\", i):\n",
    "        continue\n",
    "\n",
    "    elif not re.search(\"([0-9])+\", i):\n",
    "        continue\n",
    "\n",
    "    elif not re.search(\"([!@$%^&])+\", i):\n",
    "        continue\n",
    "\n",
    "    else:\n",
    "        valid.append(i)\n",
    "\n",
    "    print((\" \").join(valid))\n",
    "    break\n",
    "\n",
    "else:\n",
    "    print('Invalid password')"
   ]
  },
  {
   "cell_type": "code",
   "execution_count": null,
   "id": "00e081e7",
   "metadata": {},
   "outputs": [],
   "source": []
  }
 ],
 "metadata": {
  "kernelspec": {
   "display_name": "Python 3",
   "language": "python",
   "name": "python3"
  },
  "language_info": {
   "codemirror_mode": {
    "name": "ipython",
    "version": 3
   },
   "file_extension": ".py",
   "mimetype": "text/x-python",
   "name": "python",
   "nbconvert_exporter": "python",
   "pygments_lexer": "ipython3",
   "version": "3.8.8"
  }
 },
 "nbformat": 4,
 "nbformat_minor": 5
}
