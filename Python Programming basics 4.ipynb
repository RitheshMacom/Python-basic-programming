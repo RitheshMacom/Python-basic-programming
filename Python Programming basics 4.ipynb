{
 "cells": [
  {
   "cell_type": "markdown",
   "id": "3354821d",
   "metadata": {},
   "source": [
    "## Basic_Programming 4"
   ]
  },
  {
   "cell_type": "markdown",
   "id": "f773f283",
   "metadata": {},
   "source": [
    "### 1.Write a Python Program to Find the Factorial of a Number?"
   ]
  },
  {
   "cell_type": "code",
   "execution_count": 1,
   "id": "d37986a6",
   "metadata": {},
   "outputs": [
    {
     "name": "stdout",
     "output_type": "stream",
     "text": [
      "Enter a Number to find factorial : 8\n",
      "Factorial of 8 is 40320\n"
     ]
    }
   ],
   "source": [
    "num = int(input(\"Enter a Number to find factorial : \"))\n",
    "factorial = 1\n",
    "if num < 0:\n",
    "    print(\"Can not calculate Factorial of a negative number\")\n",
    "elif num == 0:\n",
    "    print(\"Factorial of zero is 1\")\n",
    "else:\n",
    "    for i in range(1,num+1):\n",
    "        factorial = factorial * i\n",
    "print(\"Factorial of {} is {}\".format(num, factorial))"
   ]
  },
  {
   "cell_type": "markdown",
   "id": "588aba86",
   "metadata": {},
   "source": [
    "### 2. Write a Python Program to Display the multiplication Table?"
   ]
  },
  {
   "cell_type": "code",
   "execution_count": 2,
   "id": "52fcbd7b",
   "metadata": {},
   "outputs": [
    {
     "name": "stdout",
     "output_type": "stream",
     "text": [
      "Enter the number:6\n",
      "\n",
      "\n",
      "Multiplication table for 6 \n",
      "\n",
      "6 x 1 = 6\n",
      "6 x 2 = 12\n",
      "6 x 3 = 18\n",
      "6 x 4 = 24\n",
      "6 x 5 = 30\n",
      "6 x 6 = 36\n",
      "6 x 7 = 42\n",
      "6 x 8 = 48\n",
      "6 x 9 = 54\n",
      "6 x 10 = 60\n"
     ]
    }
   ],
   "source": [
    "n = int(input(\"Enter the number:\"))\n",
    "print(\"\\n\")\n",
    "\n",
    "if (n < 0 or n==0):\n",
    "    print(\"Enter a positive integer greater than zero\")\n",
    "    \n",
    "if (n > 0):\n",
    "    print(\"Multiplication table for\",n,\"\\n\")\n",
    "    for i in range(1,11):\n",
    "        print (n, \"x\", i,\"=\",n*i)"
   ]
  },
  {
   "cell_type": "markdown",
   "id": "5ba13b86",
   "metadata": {},
   "source": [
    "### 3. Write a Python Program to Print the Fibonacci sequence?"
   ]
  },
  {
   "cell_type": "code",
   "execution_count": 3,
   "id": "5355c654",
   "metadata": {},
   "outputs": [
    {
     "name": "stdout",
     "output_type": "stream",
     "text": [
      "enter a number to find the fibonacci series : 67\n",
      "Fibonacci series upto  67 :\n",
      "0 1 1 2 3 5 8 13 21 34 55 89 144 233 377 610 987 1597 2584 4181 6765 10946 17711 28657 46368 75025 121393 196418 317811 514229 832040 1346269 2178309 3524578 5702887 9227465 14930352 24157817 39088169 63245986 102334155 165580141 267914296 433494437 701408733 1134903170 1836311903 2971215073 4807526976 7778742049 12586269025 20365011074 32951280099 53316291173 86267571272 139583862445 225851433717 365435296162 591286729879 956722026041 1548008755920 2504730781961 4052739537881 6557470319842 10610209857723 17167680177565 27777890035288 44945570212853 "
     ]
    }
   ],
   "source": [
    "sequence = int(input(\"enter a number to find the fibonacci series : \"))\n",
    "count = 0\n",
    "f1 , f2 = 0,1\n",
    "\n",
    "if sequence <= 0:\n",
    "    print(\"Please enter a positive number\")\n",
    "elif sequence == 1:\n",
    "    print(\"Fibonacci series upto \",sequence, \":\")\n",
    "    print(f1)\n",
    "else:\n",
    "    print(\"Fibonacci series upto \",sequence, \":\")\n",
    "    while count <= sequence:        \n",
    "        print(f1, end=\" \")\n",
    "        fth = f1 + f2\n",
    "        f1,f2 = f2, fth\n",
    "        count+=1"
   ]
  },
  {
   "cell_type": "markdown",
   "id": "88116db2",
   "metadata": {},
   "source": [
    "### 4.Write a Python program to check Armstrong Number?"
   ]
  },
  {
   "cell_type": "code",
   "execution_count": 7,
   "id": "99dc01f4",
   "metadata": {},
   "outputs": [
    {
     "name": "stdout",
     "output_type": "stream",
     "text": [
      "Enter a number for checking if it is an Armstrong number : 232\n",
      "232 is not an Armstrong number\n"
     ]
    }
   ],
   "source": [
    "a=input('Enter a number for checking if it is an Armstrong number : ')\n",
    "while a.isdigit() == False:\n",
    "    a=input('Enter a valid whole number : ')\n",
    "sum_of_cubes = 0\n",
    "for i in a:\n",
    "    sum_of_cubes += int(i)**3\n",
    "if sum_of_cubes == int(a):\n",
    "    print('{} is an Armstrong number'.format(a))\n",
    "else:\n",
    "    print('{} is not an Armstrong number'.format(a))"
   ]
  },
  {
   "cell_type": "markdown",
   "id": "1da29504",
   "metadata": {},
   "source": [
    "### 5.Write a Python program to find Armstrong Number in an interval?"
   ]
  },
  {
   "cell_type": "code",
   "execution_count": 8,
   "id": "1bb6ff5b",
   "metadata": {},
   "outputs": [
    {
     "name": "stdout",
     "output_type": "stream",
     "text": [
      "Lower limit : 55\n",
      "Upper limit : 999\n",
      "153\n",
      "370\n",
      "371\n",
      "407\n"
     ]
    }
   ],
   "source": [
    "low = int(input(\"Lower limit : \"))\n",
    "up = int(input(\"Upper limit : \"))\n",
    "\n",
    "\n",
    "for num in range(low,up+1):\n",
    "    power = len(str(num))\n",
    "    temp = num\n",
    "    sum = 0\n",
    "    while temp > 0:\n",
    "        digit = temp % 10\n",
    "        sum = sum + digit ** power\n",
    "        temp = temp//10\n",
    "    if num == sum :\n",
    "        print(num)"
   ]
  },
  {
   "cell_type": "markdown",
   "id": "23e23a08",
   "metadata": {},
   "source": [
    "### 6.Write a Python Program to Find the sum of Natural Numbers?"
   ]
  },
  {
   "cell_type": "code",
   "execution_count": 9,
   "id": "50c124a4",
   "metadata": {},
   "outputs": [
    {
     "name": "stdout",
     "output_type": "stream",
     "text": [
      "Enter the number:33\n",
      "\n",
      "\n",
      "Sum of first 33 natural numbers = 561\n"
     ]
    }
   ],
   "source": [
    "n = int(input(\"Enter the number:\"))\n",
    "print(\"\\n\")\n",
    "\n",
    "if (n < 0 or n==0):\n",
    "    print(\"Enter a positive integer greater than zero\")\n",
    "\n",
    "sum=0\n",
    "if (n>0):\n",
    "    for i in range(1,n+1):\n",
    "        sum=sum+i\n",
    "    print(\"Sum of first {} natural numbers = {}\".format(n,sum))"
   ]
  },
  {
   "cell_type": "code",
   "execution_count": null,
   "id": "5b1bdfd1",
   "metadata": {},
   "outputs": [],
   "source": []
  }
 ],
 "metadata": {
  "kernelspec": {
   "display_name": "Python 3",
   "language": "python",
   "name": "python3"
  },
  "language_info": {
   "codemirror_mode": {
    "name": "ipython",
    "version": 3
   },
   "file_extension": ".py",
   "mimetype": "text/x-python",
   "name": "python",
   "nbconvert_exporter": "python",
   "pygments_lexer": "ipython3",
   "version": "3.8.8"
  }
 },
 "nbformat": 4,
 "nbformat_minor": 5
}
