{
 "cells": [
  {
   "cell_type": "markdown",
   "id": "92ec8557",
   "metadata": {},
   "source": [
    "### Basic Programming 25"
   ]
  },
  {
   "cell_type": "markdown",
   "id": "b6f5c090",
   "metadata": {},
   "source": [
    "### Question1\n",
    "    Create a function that takes three integer arguments (a, b, c) and returns the amount of\n",
    "    integers which are of equal value.\n",
    "   #### Examples\n",
    "    equal(3, 4, 3) ➞ 2\n",
    "    equal(1, 1, 1) ➞ 3\n",
    "    equal(3, 4, 1) ➞ 0\n",
    "   #### Notes\n",
    "    Your function must return 0, 2 or 3."
   ]
  },
  {
   "cell_type": "code",
   "execution_count": 2,
   "id": "97796d2a",
   "metadata": {},
   "outputs": [],
   "source": [
    "def equal(a,b,c): \n",
    "    lst = [a,b,c] \n",
    "    for i in lst: \n",
    "            if lst.count(i)>1: \n",
    "                return lst.count(i)\n",
    "            return 0"
   ]
  },
  {
   "cell_type": "code",
   "execution_count": 3,
   "id": "021254b8",
   "metadata": {},
   "outputs": [
    {
     "name": "stdout",
     "output_type": "stream",
     "text": [
      "2\n",
      "3\n",
      "0\n"
     ]
    }
   ],
   "source": [
    "print(equal(3,4,3))\n",
    "print(equal(1,1,1))\n",
    "print(equal(1,2,3))"
   ]
  },
  {
   "cell_type": "markdown",
   "id": "3c14ef8e",
   "metadata": {},
   "source": [
    "### Question2\n",
    "    Write a function that converts a dictionary into a list of keys-values tuples.\n",
    "   #### Examples\n",
    "    dict_to_list({\n",
    "    'D': 1,\n",
    "    'B': 2,\n",
    "    'C': 3\n",
    "    }) ➞ [('B', 2), ('C', 3), ('D', 1)]\n",
    "    dict_to_list({\n",
    "    'likes': 2,\n",
    "    'dislikes': 3,\n",
    "    'followers': 10\n",
    "    }) ➞ [('dislikes', 3), ('followers', 10), ('likes', 2)]\n",
    "   #### Notes\n",
    "    Return the elements in the list in alphabetical order."
   ]
  },
  {
   "cell_type": "code",
   "execution_count": 6,
   "id": "777eff13",
   "metadata": {},
   "outputs": [],
   "source": [
    "def dict_to_list(my_dict):\n",
    "    return sorted(my_dict.items())  #will return alphabetcal order"
   ]
  },
  {
   "cell_type": "code",
   "execution_count": 7,
   "id": "4566f196",
   "metadata": {},
   "outputs": [
    {
     "data": {
      "text/plain": [
       "[('B', 2), ('C', 3), ('D', 1)]"
      ]
     },
     "execution_count": 7,
     "metadata": {},
     "output_type": "execute_result"
    }
   ],
   "source": [
    "dict_to_list({\n",
    "    'D': 1,\n",
    "    'B': 2,\n",
    "    'C': 3\n",
    "    })"
   ]
  },
  {
   "cell_type": "code",
   "execution_count": 8,
   "id": "07096d3a",
   "metadata": {},
   "outputs": [
    {
     "data": {
      "text/plain": [
       "[('dislikes', 3), ('followers', 10), ('likes', 2)]"
      ]
     },
     "execution_count": 8,
     "metadata": {},
     "output_type": "execute_result"
    }
   ],
   "source": [
    "dict_to_list({ \"likes\": 2, \"dislikes\": 3, \"followers\": 10 })"
   ]
  },
  {
   "cell_type": "markdown",
   "id": "8f922b4c",
   "metadata": {},
   "source": [
    "### Question3\n",
    "    Write a function that creates a dictionary with each (key, value) pair being the (lower case, upper case) versions of a letter, respectively.        \n",
    "   #### Examples\n",
    "\n",
    "    mapping([\"p\", \"s\"]) ➞ { \"p\": \"P\", \"s\": \"S\" }\n",
    "\n",
    "    mapping([\"a\", \"b\", \"c\"]) ➞ { \"a\": \"A\", \"b\": \"B\", \"c\": \"C\" }\n",
    "\n",
    "    mapping([\"a\", \"v\", \"y\", \"z\"]) ➞ { \"a\": \"A\", \"v\": \"V\", \"y\": \"Y\", \"z\": \"Z\" }\n",
    "\n",
    "   #### Notes\n",
    "\n",
    "    All of the letters in the input list will always be lowercase."
   ]
  },
  {
   "cell_type": "code",
   "execution_count": 9,
   "id": "3c799b42",
   "metadata": {},
   "outputs": [],
   "source": [
    "def mapping(lst):\n",
    "    return {v.lower():v.upper() for v in lst}"
   ]
  },
  {
   "cell_type": "code",
   "execution_count": 10,
   "id": "263cb8ac",
   "metadata": {},
   "outputs": [
    {
     "name": "stdout",
     "output_type": "stream",
     "text": [
      "{'p': 'P', 's': 'S'}\n",
      "{'a': 'A', 'b': 'B', 'c': 'C'}\n",
      "{'a': 'A', 'v': 'V', 'y': 'Y', 'z': 'Z'}\n",
      "{'a': 'A', 'v': 'V', 'y': 'Y', 'z': 'Z'}\n"
     ]
    }
   ],
   "source": [
    "print(mapping(['p', 's']))\n",
    "print(mapping(['a', 'b', 'c']))\n",
    "print(mapping(['a', 'v', 'y', 'z']))\n",
    "print(mapping(['A', 'v', 'Y', 'z']))"
   ]
  },
  {
   "cell_type": "markdown",
   "id": "c5b8099c",
   "metadata": {},
   "source": [
    "### Question4\n",
    "    Write a function, that replaces all vowels in a string with a specified vowel.\n",
    "   #### Examples\n",
    "    vow_replace('apples and bananas', 'u') ➞ 'upplus und bununus'\n",
    "    vow_replace('cheese casserole', 'o') ➞ 'chooso cossorolo'\n",
    "    vow_replace('stuffed jalapeno poppers', 'e') ➞ 'steffed jelepene peppers'\n",
    "   #### Notes\n",
    "    All words will be lowercase. Y is not considered a vowel."
   ]
  },
  {
   "cell_type": "code",
   "execution_count": 11,
   "id": "0bd02b9e",
   "metadata": {},
   "outputs": [],
   "source": [
    "def vow_replace(string,char):\n",
    "    vow='AEIOUaeiou'\n",
    "    for i in vow:\n",
    "            string=string.replace(i,char)\n",
    "    return string"
   ]
  },
  {
   "cell_type": "code",
   "execution_count": 12,
   "id": "4ec0ef1b",
   "metadata": {},
   "outputs": [
    {
     "name": "stdout",
     "output_type": "stream",
     "text": [
      "upplus und bununus\n",
      "chooso cossorolo\n",
      "steffed jelepene peppers\n"
     ]
    }
   ],
   "source": [
    "print(vow_replace(\"apples and bananas\", \"u\"))\n",
    "print(vow_replace(\"cheese casserole\", \"o\"))\n",
    "print(vow_replace(\"stuffed jalapeno poppers\", \"e\"))"
   ]
  },
  {
   "cell_type": "markdown",
   "id": "8b4dd2f3",
   "metadata": {},
   "source": [
    "### Question5\n",
    "    Create a function that takes a string as input and capitalizes a letter if its ASCII code is even\n",
    "    and returns its lower case version if its ASCII code is odd.\n",
    "   #### Examples\n",
    "    ascii_capitalize('to be or not to be!') ➞ 'To Be oR NoT To Be!'\n",
    "    ascii_capitalize('THE LITTLE MERMAID') ➞ 'THe LiTTLe meRmaiD'\n",
    "    ascii_capitalize('Oh what a beautiful morning.') ➞ 'oH wHaT a BeauTiFuL moRNiNg.'\n",
    "   '"
   ]
  },
  {
   "cell_type": "code",
   "execution_count": 13,
   "id": "8a1a091d",
   "metadata": {},
   "outputs": [],
   "source": [
    "def ascii_capitalize(s):\n",
    "    s1 = []\n",
    "    for i in range(len(s)):\n",
    "        if ord(s[i]) % 2 == 0:\n",
    "            s1.append(s[i].upper())\n",
    "        else:\n",
    "            s1.append(s[i].lower())\n",
    "\n",
    "    return \"\".join((s1))"
   ]
  },
  {
   "cell_type": "code",
   "execution_count": 14,
   "id": "df485e9b",
   "metadata": {},
   "outputs": [
    {
     "name": "stdout",
     "output_type": "stream",
     "text": [
      "To Be oR NoT To Be!\n",
      "THe LiTTLe meRmaiD\n",
      "oH wHaT a BeauTiFuL moRNiNg.\n"
     ]
    }
   ],
   "source": [
    "print(ascii_capitalize('to be or not to be!'))\n",
    "print(ascii_capitalize('THE LITTLE MERMAID'))\n",
    "print(ascii_capitalize('Oh what a beautiful morning.'))"
   ]
  },
  {
   "cell_type": "code",
   "execution_count": null,
   "id": "9b3bd286",
   "metadata": {},
   "outputs": [],
   "source": []
  }
 ],
 "metadata": {
  "kernelspec": {
   "display_name": "Python 3",
   "language": "python",
   "name": "python3"
  },
  "language_info": {
   "codemirror_mode": {
    "name": "ipython",
    "version": 3
   },
   "file_extension": ".py",
   "mimetype": "text/x-python",
   "name": "python",
   "nbconvert_exporter": "python",
   "pygments_lexer": "ipython3",
   "version": "3.8.8"
  }
 },
 "nbformat": 4,
 "nbformat_minor": 5
}
