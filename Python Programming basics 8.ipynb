{
 "cells": [
  {
   "cell_type": "markdown",
   "id": "e064e301",
   "metadata": {},
   "source": [
    "## Basic Programming 8"
   ]
  },
  {
   "cell_type": "markdown",
   "id": "7c647723",
   "metadata": {},
   "source": [
    "### 1. Write a Python Program to Add Two Matrices?"
   ]
  },
  {
   "cell_type": "code",
   "execution_count": 1,
   "id": "debb4a33",
   "metadata": {},
   "outputs": [
    {
     "name": "stdout",
     "output_type": "stream",
     "text": [
      "[[0 1 2 3]\n",
      " [4 5 6 7]]\n",
      "\n",
      "[[14 13 15  7]\n",
      " [ 2 15 13  5]]\n",
      "\n",
      "[[14 14 17 10]\n",
      " [ 6 20 19 12]]\n"
     ]
    }
   ],
   "source": [
    "import numpy as np\n",
    "\n",
    "mat1=np.arange(8).reshape(2,4)\n",
    "mat2=np.random.randint(1,17,8).reshape(2,4)\n",
    "print(mat1)\n",
    "print()\n",
    "print(mat2)\n",
    "print()\n",
    "\n",
    "print(np.add(mat1,mat2))"
   ]
  },
  {
   "cell_type": "markdown",
   "id": "5bad8146",
   "metadata": {},
   "source": [
    "### 2. Write a Python Program to Multiply Two Matrices?"
   ]
  },
  {
   "cell_type": "code",
   "execution_count": 2,
   "id": "be953ac8",
   "metadata": {},
   "outputs": [
    {
     "name": "stdout",
     "output_type": "stream",
     "text": [
      "The product of two matrix \n",
      "\n",
      "[[1 2 4]\n",
      " [4 5 6]\n",
      " [7 8 9]]  and \n",
      "\n",
      "[[2 3 4]\n",
      " [5 6 7]\n",
      " [8 9 1]]  is \n",
      "\n",
      "[[ 44  51  22]\n",
      " [ 81  96  57]\n",
      " [126 150  93]] \n"
     ]
    }
   ],
   "source": [
    "import numpy as np\n",
    "\n",
    "mat1 = np.array([[1,2,4],\n",
    "        [4,5,6],\n",
    "        [7,8,9]])\n",
    "mat2 = np.array([[2,3,4],\n",
    "        [5,6,7],\n",
    "        [8,9,1]])\n",
    "\n",
    "sumMat = np.dot(mat1,mat2)\n",
    "print(\"The product of two matrix \\n\\n{}  and \\n\\n{}  is \\n\\n{} \".format(mat1,mat2,sumMat))"
   ]
  },
  {
   "cell_type": "markdown",
   "id": "95173958",
   "metadata": {},
   "source": [
    "### 3. Write a Python Program to Transpose a Matrix?"
   ]
  },
  {
   "cell_type": "code",
   "execution_count": 4,
   "id": "316186a9",
   "metadata": {},
   "outputs": [
    {
     "name": "stdout",
     "output_type": "stream",
     "text": [
      "[[1 4 7]\n",
      " [2 5 8]\n",
      " [4 6 9]]\n"
     ]
    }
   ],
   "source": [
    "mat1 = np.array([[1,2,4],\n",
    "        [4,5,6],\n",
    "        [7,8,9]])\n",
    "print(mat1.T)"
   ]
  },
  {
   "cell_type": "code",
   "execution_count": 5,
   "id": "c697a7d0",
   "metadata": {},
   "outputs": [],
   "source": [
    "M = [[2,3,4],\n",
    "     [4,3,5]]\n",
    "\n",
    "R= [[0,0],\n",
    "     [0,0],\n",
    "     [0,0]]\n",
    "\n",
    "for i in range(len(M)):\n",
    "    for j in range(len(M[0])):\n",
    "        R[j][i] = M[i][j]"
   ]
  },
  {
   "cell_type": "code",
   "execution_count": 8,
   "id": "2e4c1b29",
   "metadata": {},
   "outputs": [
    {
     "name": "stdout",
     "output_type": "stream",
     "text": [
      "[2, 4]\n",
      "[3, 3]\n",
      "[4, 5]\n"
     ]
    }
   ],
   "source": [
    "for i in R:\n",
    "    print(i)"
   ]
  },
  {
   "cell_type": "markdown",
   "id": "c731e89e",
   "metadata": {},
   "source": [
    "### 4. Write a Python Program to Sort Words in Alphabetic Order?"
   ]
  },
  {
   "cell_type": "code",
   "execution_count": 14,
   "id": "44415f4a",
   "metadata": {},
   "outputs": [
    {
     "name": "stdout",
     "output_type": "stream",
     "text": [
      "The sorted words are:\n",
      "chitti\n",
      "is\n",
      "my\n",
      "name\n",
      "robot\n",
      "the\n"
     ]
    }
   ],
   "source": [
    "input_str = 'my name is chitti the robot'\n",
    "\n",
    "# breakdown the string into a list of words\n",
    "words = input_str.split()\n",
    "\n",
    "# sort the list\n",
    "words.sort()\n",
    "\n",
    "print(\"The sorted words are:\")\n",
    "for word in words:\n",
    "    print(word)"
   ]
  },
  {
   "cell_type": "markdown",
   "id": "d049f332",
   "metadata": {},
   "source": [
    "### 5. Write a Python Program to Remove Punctuation From a String?"
   ]
  },
  {
   "cell_type": "code",
   "execution_count": 15,
   "id": "d983ccbb",
   "metadata": {},
   "outputs": [
    {
     "name": "stdout",
     "output_type": "stream",
     "text": [
      "Enter some string with panctuationssurprised!,may be we can #sleep & Start *early @tomorrow\n",
      "surprisedmay be we can sleep  Start early tomorrow\n"
     ]
    }
   ],
   "source": [
    "punctuations = '''!()-[]{};:'\"\\,<>./?@#$%^&*_~'''\n",
    "\n",
    "str = input(\"Enter some string with panctuations\")\n",
    "\n",
    "# remove punctuation from the string\n",
    "no_punct = \"\"\n",
    "for char in str:\n",
    "    if char not in punctuations:\n",
    "        no_punct = no_punct + char\n",
    "\n",
    "# display the unpunctuated string\n",
    "print(no_punct)"
   ]
  },
  {
   "cell_type": "code",
   "execution_count": null,
   "id": "5b82e0e9",
   "metadata": {},
   "outputs": [],
   "source": []
  }
 ],
 "metadata": {
  "kernelspec": {
   "display_name": "Python 3",
   "language": "python",
   "name": "python3"
  },
  "language_info": {
   "codemirror_mode": {
    "name": "ipython",
    "version": 3
   },
   "file_extension": ".py",
   "mimetype": "text/x-python",
   "name": "python",
   "nbconvert_exporter": "python",
   "pygments_lexer": "ipython3",
   "version": "3.8.8"
  }
 },
 "nbformat": 4,
 "nbformat_minor": 5
}
