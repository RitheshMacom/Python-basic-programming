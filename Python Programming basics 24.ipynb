{
 "cells": [
  {
   "cell_type": "markdown",
   "id": "cc0144c8",
   "metadata": {},
   "source": [
    "### Basic Programming 24"
   ]
  },
  {
   "cell_type": "markdown",
   "id": "84c1fd1b",
   "metadata": {},
   "source": [
    "### Question1\n",
    "    Create a function that takes an integer and returns a list from 1 to the given number, where:\n",
    "    1. If the number can be divided evenly by 4, amplify it by 10 (i.e. return 10 times the\n",
    "    number).\n",
    "    2. If the number cannot be divided evenly by 4, simply return the number.\n",
    "   #### Examples\n",
    "    amplify(4) ➞ [1, 2, 3, 40]\n",
    "    amplify(3) ➞ [1, 2, 3]\n",
    "    amplify(25) ➞ [1, 2, 3, 40, 5, 6, 7, 80, 9, 10, 11, 120, 13, 14, 15, 160,\n",
    "    17, 18, 19, 200, 21, 22, 23, 240, 25]\n",
    "   #### Notes\n",
    "     The given integer will always be equal to or greater than 1.\n",
    "     Include the number (see example above).\n",
    "     To perform this problem with its intended purpose, try doing it with list\n",
    "    comprehensions. If that's too difficult, just solve the challenge any way you can."
   ]
  },
  {
   "cell_type": "code",
   "execution_count": 1,
   "id": "5829d1ac",
   "metadata": {},
   "outputs": [],
   "source": [
    "from copy import deepcopy\n",
    "\n",
    "def amplify(num):\n",
    "    l=[]\n",
    "    if (num>1):\n",
    "        l=[i for i in range(1,num+1)]\n",
    "        l2=deepcopy(l)\n",
    "        for i in l2:\n",
    "            if i%4==0:\n",
    "                l2.insert(l2.index(i),i*10)\n",
    "                l2.remove(i)\n",
    "        print(l2)"
   ]
  },
  {
   "cell_type": "code",
   "execution_count": 2,
   "id": "cd238a9c",
   "metadata": {},
   "outputs": [
    {
     "name": "stdout",
     "output_type": "stream",
     "text": [
      "[1, 2, 3, 40]\n"
     ]
    }
   ],
   "source": [
    "amplify(4)"
   ]
  },
  {
   "cell_type": "code",
   "execution_count": 3,
   "id": "0d189ced",
   "metadata": {},
   "outputs": [
    {
     "name": "stdout",
     "output_type": "stream",
     "text": [
      "[1, 2, 3, 40, 5, 6, 7, 80, 9, 10, 11, 120, 13, 14, 15, 160, 17, 18, 19, 200, 21, 22, 23, 240, 25]\n"
     ]
    }
   ],
   "source": [
    "amplify(25)"
   ]
  },
  {
   "cell_type": "code",
   "execution_count": 4,
   "id": "33c747ac",
   "metadata": {},
   "outputs": [
    {
     "name": "stdout",
     "output_type": "stream",
     "text": [
      "[1, 2, 3]\n"
     ]
    }
   ],
   "source": [
    "amplify(3)"
   ]
  },
  {
   "cell_type": "code",
   "execution_count": 5,
   "id": "2f11c7c4",
   "metadata": {},
   "outputs": [
    {
     "name": "stdout",
     "output_type": "stream",
     "text": [
      "[1, 2, 3, 40, 5, 6, 7]\n"
     ]
    }
   ],
   "source": [
    "amplify(7)"
   ]
  },
  {
   "cell_type": "markdown",
   "id": "5eac9354",
   "metadata": {},
   "source": [
    "### Question2\n",
    "    Create a function that takes a list of numbers and return the number that's unique.\n",
    "   #### Examples\n",
    "    unique([3, 3, 3, 7, 3, 3]) ➞ 7\n",
    "    unique([0, 0, 0.77, 0, 0]) ➞ 0.77\n",
    "    unique([0, 1, 1, 1, 1, 1, 1, 1]) ➞ 0\n",
    "   #### Notes\n",
    "    Test cases will always have exactly one unique number while all others are the same."
   ]
  },
  {
   "cell_type": "code",
   "execution_count": 6,
   "id": "4bad095b",
   "metadata": {},
   "outputs": [],
   "source": [
    "def unique(lst):\n",
    "    s = list(set(lst))# give us unique value\n",
    "    for i in s:\n",
    "        if lst.count(i) == 1:\n",
    "            return i"
   ]
  },
  {
   "cell_type": "code",
   "execution_count": 7,
   "id": "898c3723",
   "metadata": {},
   "outputs": [
    {
     "data": {
      "text/plain": [
       "7"
      ]
     },
     "execution_count": 7,
     "metadata": {},
     "output_type": "execute_result"
    }
   ],
   "source": [
    "unique([3, 3, 3, 7, 3, 3])"
   ]
  },
  {
   "cell_type": "code",
   "execution_count": 8,
   "id": "d18a658e",
   "metadata": {},
   "outputs": [
    {
     "data": {
      "text/plain": [
       "0.77"
      ]
     },
     "execution_count": 8,
     "metadata": {},
     "output_type": "execute_result"
    }
   ],
   "source": [
    "unique([0, 0, 0.77, 0, 0])"
   ]
  },
  {
   "cell_type": "code",
   "execution_count": 9,
   "id": "db1a55a4",
   "metadata": {},
   "outputs": [
    {
     "data": {
      "text/plain": [
       "0"
      ]
     },
     "execution_count": 9,
     "metadata": {},
     "output_type": "execute_result"
    }
   ],
   "source": [
    "unique([0, 1, 1, 1, 1, 1, 1, 1])"
   ]
  },
  {
   "cell_type": "markdown",
   "id": "1d607d27",
   "metadata": {},
   "source": [
    "### Question3\n",
    "    Your task is to create a Circle constructor that creates a circle with a radius provided by an\n",
    "    argument. The circles constructed must have two getters getArea() (PIr^2) and\n",
    "    getPerimeter() (2PI*r) which give both respective areas and perimeter (circumference).\n",
    "\n",
    "    For help with this class, I have provided you with a Rectangle constructor which you can use\n",
    "    as a base example.\n",
    "   ### Examples\n",
    "    circy = Circle(11)\n",
    "    circy.getArea()\n",
    "    # Should return 380.132711084365\n",
    "    circy = Circle(4.44)\n",
    "    circy.getPerimeter()\n",
    "    # Should return 27.897342763877365\n",
    "   #### Notes\n",
    "    Round results up to the nearest integer."
   ]
  },
  {
   "cell_type": "code",
   "execution_count": 10,
   "id": "0b284cea",
   "metadata": {},
   "outputs": [],
   "source": [
    "class Circle():\n",
    "    def __init__(self, r):\n",
    "        self.radius = r\n",
    "\n",
    "    def getArea(self):\n",
    "        return round(self.radius**2*3.14)\n",
    "    \n",
    "    def getPerimeter(self):\n",
    "        return round(2*self.radius*3.14)"
   ]
  },
  {
   "cell_type": "code",
   "execution_count": 11,
   "id": "a7c9e9c5",
   "metadata": {},
   "outputs": [
    {
     "data": {
      "text/plain": [
       "380"
      ]
     },
     "execution_count": 11,
     "metadata": {},
     "output_type": "execute_result"
    }
   ],
   "source": [
    "circy = Circle(11)\n",
    "circy.getArea()"
   ]
  },
  {
   "cell_type": "code",
   "execution_count": 12,
   "id": "406e8014",
   "metadata": {},
   "outputs": [
    {
     "data": {
      "text/plain": [
       "28"
      ]
     },
     "execution_count": 12,
     "metadata": {},
     "output_type": "execute_result"
    }
   ],
   "source": [
    "circy = Circle(4.44)\n",
    "circy.getPerimeter()"
   ]
  },
  {
   "cell_type": "markdown",
   "id": "e729c29d",
   "metadata": {},
   "source": [
    "### Question4\n",
    "    Create a function that takes a list of strings and return a list, sorted from shortest to longest.\n",
    "   ### Examples\n",
    "    sort_by_length(['Google', 'Apple', 'Microsoft'])\n",
    "    ➞ ['Apple', 'Google', 'Microsoft']\n",
    "    sort_by_length(['Leonardo', 'Michelangelo', 'Raphael', 'Donatello'])\n",
    "    ➞ ['Raphael', 'Leonardo', 'Donatello', 'Michelangelo']\n",
    "    sort_by_length(['Turing', 'Einstein', 'Jung'])\n",
    "    ➞ ['Jung', 'Turing', 'Einstein']\n",
    "   #### Notes\n",
    "    All test cases contain lists with strings of different lengths, so you won't have to deal with\n",
    "    multiple strings of the same length."
   ]
  },
  {
   "cell_type": "code",
   "execution_count": 13,
   "id": "69558699",
   "metadata": {},
   "outputs": [],
   "source": [
    "def sort_by_length(lst):\n",
    "    return sorted(lst, key = len)"
   ]
  },
  {
   "cell_type": "code",
   "execution_count": 14,
   "id": "e7d38246",
   "metadata": {},
   "outputs": [
    {
     "data": {
      "text/plain": [
       "['Apple', 'Google', 'Microsoft']"
      ]
     },
     "execution_count": 14,
     "metadata": {},
     "output_type": "execute_result"
    }
   ],
   "source": [
    "sort_by_length(['Google', 'Apple', 'Microsoft'])"
   ]
  },
  {
   "cell_type": "code",
   "execution_count": 15,
   "id": "7d83723a",
   "metadata": {},
   "outputs": [
    {
     "data": {
      "text/plain": [
       "['Raphael', 'Leonardo', 'Donatello', 'Michelangelo']"
      ]
     },
     "execution_count": 15,
     "metadata": {},
     "output_type": "execute_result"
    }
   ],
   "source": [
    "sort_by_length(['Leonardo', 'Michelangelo', 'Raphael', 'Donatello'])"
   ]
  },
  {
   "cell_type": "code",
   "execution_count": 16,
   "id": "90b57de7",
   "metadata": {},
   "outputs": [
    {
     "data": {
      "text/plain": [
       "['Jung', 'Turing', 'Einstein']"
      ]
     },
     "execution_count": 16,
     "metadata": {},
     "output_type": "execute_result"
    }
   ],
   "source": [
    "sort_by_length(['Turing', 'Einstein', 'Jung'])"
   ]
  },
  {
   "cell_type": "markdown",
   "id": "230ae6ce",
   "metadata": {},
   "source": [
    "### Question5\n",
    "    Create a function that validates whether three given integers form a Pythagorean triplet. The\n",
    "    sum of the squares of the two smallest integers must equal the square of the largest number to\n",
    "    be validated.\n",
    "\n",
    "   #### Examples\n",
    "    is_triplet(3, 4, 5) ➞ True\n",
    "    # 3² + 4² = 25\n",
    "    # 5² = 25\n",
    "    is_triplet(13, 5, 12) ➞ True\n",
    "    # 5² + 12² = 169\n",
    "    # 13² = 169\n",
    "    is_triplet(1, 2, 3) ➞ False\n",
    "    # 1² + 2² = 5\n",
    "    # 3² = 9\n",
    "   #### Notes\n",
    "    Numbers may not be given in a sorted order."
   ]
  },
  {
   "cell_type": "code",
   "execution_count": 17,
   "id": "680ff0f0",
   "metadata": {},
   "outputs": [],
   "source": [
    "def is_triplet(*args):\n",
    "    l=[]\n",
    "    for i in args:\n",
    "        l.append(i)\n",
    "    l2=deepcopy(l)\n",
    "    \n",
    "    large=max(l)\n",
    "    l.pop(l.index(large))\n",
    "    \n",
    "    sum=0\n",
    "    for i in l:\n",
    "        sum=sum+i*i\n",
    "        \n",
    "    if sum==(large**2):\n",
    "        return True\n",
    "    return False"
   ]
  },
  {
   "cell_type": "code",
   "execution_count": 18,
   "id": "f15a9d3b",
   "metadata": {},
   "outputs": [
    {
     "data": {
      "text/plain": [
       "True"
      ]
     },
     "execution_count": 18,
     "metadata": {},
     "output_type": "execute_result"
    }
   ],
   "source": [
    "is_triplet(3, 4, 5)"
   ]
  },
  {
   "cell_type": "code",
   "execution_count": 19,
   "id": "70f3d14e",
   "metadata": {},
   "outputs": [
    {
     "data": {
      "text/plain": [
       "True"
      ]
     },
     "execution_count": 19,
     "metadata": {},
     "output_type": "execute_result"
    }
   ],
   "source": [
    "is_triplet(13, 5, 12)"
   ]
  },
  {
   "cell_type": "code",
   "execution_count": 20,
   "id": "c8b1a3f9",
   "metadata": {},
   "outputs": [
    {
     "data": {
      "text/plain": [
       "False"
      ]
     },
     "execution_count": 20,
     "metadata": {},
     "output_type": "execute_result"
    }
   ],
   "source": [
    "is_triplet(1, 2, 3)"
   ]
  },
  {
   "cell_type": "code",
   "execution_count": null,
   "id": "c5eb37ce",
   "metadata": {},
   "outputs": [],
   "source": []
  }
 ],
 "metadata": {
  "kernelspec": {
   "display_name": "Python 3",
   "language": "python",
   "name": "python3"
  },
  "language_info": {
   "codemirror_mode": {
    "name": "ipython",
    "version": 3
   },
   "file_extension": ".py",
   "mimetype": "text/x-python",
   "name": "python",
   "nbconvert_exporter": "python",
   "pygments_lexer": "ipython3",
   "version": "3.8.8"
  }
 },
 "nbformat": 4,
 "nbformat_minor": 5
}
