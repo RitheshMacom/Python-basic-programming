{
 "cells": [
  {
   "cell_type": "markdown",
   "id": "c65fd529",
   "metadata": {},
   "source": [
    "## Basic Programming 5"
   ]
  },
  {
   "cell_type": "markdown",
   "id": "5e3e670e",
   "metadata": {},
   "source": [
    "### 1. Write a Python Program to Find LCM?"
   ]
  },
  {
   "cell_type": "code",
   "execution_count": 6,
   "id": "df51be48",
   "metadata": {},
   "outputs": [
    {
     "name": "stdout",
     "output_type": "stream",
     "text": [
      "Enter num1 : 4\n",
      "Enter num1 : 77\n",
      "The LCM of 4 and 77 is 308\n"
     ]
    }
   ],
   "source": [
    "a = int(input(\"Enter num1 : \"))\n",
    "b = int(input(\"Enter num1 : \"))\n",
    "if a > b:\n",
    "    bigger = a\n",
    "else:\n",
    "    bigger = b\n",
    "    \n",
    "while(True):\n",
    "    if bigger % a == 0 and bigger % b == 0 :\n",
    "        lcm = bigger\n",
    "        break\n",
    "    bigger+=1\n",
    "    \n",
    "print(\"The LCM of {} and {} is {}\".format(a,b,lcm))"
   ]
  },
  {
   "cell_type": "markdown",
   "id": "30265d3d",
   "metadata": {},
   "source": [
    "### 2. Write a Python Program to Find HCF?"
   ]
  },
  {
   "cell_type": "code",
   "execution_count": 8,
   "id": "1838650e",
   "metadata": {},
   "outputs": [
    {
     "name": "stdout",
     "output_type": "stream",
     "text": [
      "Enter num1 : 77\n",
      "Enter num1 : 343\n",
      "The hcf of 77 and 343 is 7\n"
     ]
    }
   ],
   "source": [
    "a = int(input(\"Enter num1 : \"))\n",
    "b = int(input(\"Enter num1 : \"))\n",
    "\n",
    "\n",
    "if a < b:\n",
    "    smaller = a\n",
    "else:\n",
    "    smaller = b\n",
    "hcf = 0   \n",
    "for i in range(1,smaller+1):\n",
    "    if a % i == 0 and b % i == 0 :\n",
    "        hcf = i\n",
    "    \n",
    "print(\"The hcf of {} and {} is {}\".format(a,b,hcf))"
   ]
  },
  {
   "cell_type": "markdown",
   "id": "45ed219b",
   "metadata": {},
   "source": [
    "### 3. Write a Python Program to Convert Decimal to Binary, Octal and Hexadecimal?"
   ]
  },
  {
   "cell_type": "code",
   "execution_count": 9,
   "id": "dffe1140",
   "metadata": {},
   "outputs": [
    {
     "name": "stdout",
     "output_type": "stream",
     "text": [
      "Enter number54\n",
      "Binary form is  0b110110\n",
      "Ocatal form is  0o66\n",
      "Hexadecimal form is  0x36\n"
     ]
    }
   ],
   "source": [
    "input3 = int(input(\"Enter number\"))\n",
    "binary = bin(input3)\n",
    "octal = oct(input3)\n",
    "hexa = hex(input3)\n",
    "\n",
    "print(\"Binary form is \",binary)\n",
    "print(\"Ocatal form is \",octal)\n",
    "print(\"Hexadecimal form is \",hexa)"
   ]
  },
  {
   "cell_type": "markdown",
   "id": "b1432ae7",
   "metadata": {},
   "source": [
    "### 4.Write a Python Program To Find ASCII value of a character?"
   ]
  },
  {
   "cell_type": "code",
   "execution_count": 10,
   "id": "1c691d07",
   "metadata": {},
   "outputs": [
    {
     "name": "stdout",
     "output_type": "stream",
     "text": [
      "Enter a charcter to find the ASCII value : xyz\n",
      "Please enter only a single character : a\n",
      "ASCII value of 'a' is 97\n"
     ]
    }
   ],
   "source": [
    "a=input('Enter a charcter to find the ASCII value : ')\n",
    "while len(a) != 1:\n",
    "    a=input('Please enter only a single character : ')\n",
    "print(\"ASCII value of '{}' is {}\".format(a,ord(a)))"
   ]
  },
  {
   "cell_type": "markdown",
   "id": "47731047",
   "metadata": {},
   "source": [
    "### 5.Write a Python Program to Make a Simple Calculator with 4 basic mathematical operations?"
   ]
  },
  {
   "cell_type": "code",
   "execution_count": 12,
   "id": "0518adcc",
   "metadata": {},
   "outputs": [
    {
     "name": "stdout",
     "output_type": "stream",
     "text": [
      "Enter number a5\n",
      "Enter Number b7\n",
      " Enter anyone operation from below mention \n",
      " 1.Add \n",
      " 2.Multiply \n",
      " 3.Divide \n",
      " 4.SubstractionAdd\n",
      "output is  12.0\n"
     ]
    }
   ],
   "source": [
    "a5=int(input(\"Enter number a\"))\n",
    "b5=float(input(\"Enter Number b\"))\n",
    "option = input(\" Enter anyone operation from below mention \\n 1.Add \\n 2.Multiply \\n 3.Divide \\n 4.Substraction\")\n",
    "\n",
    "if option == 'Add':\n",
    "    c5=a5+b5\n",
    "    print(\"output is \", c5)\n",
    "\n",
    "elif option == 'Multiply':\n",
    "    c5= a5*b5\n",
    "    print(\"output is \",c5)\n",
    "\n",
    "elif option == 'Divide':\n",
    "    c5 = a5/b5\n",
    "    print(\"output is \",c5)\n",
    "    \n",
    "else :\n",
    "    option == \"Substraction\"\n",
    "    c5= a5-b5\n",
    "    print(\"output is \",c5)"
   ]
  },
  {
   "cell_type": "code",
   "execution_count": null,
   "id": "2577d120",
   "metadata": {},
   "outputs": [],
   "source": []
  }
 ],
 "metadata": {
  "kernelspec": {
   "display_name": "Python 3",
   "language": "python",
   "name": "python3"
  },
  "language_info": {
   "codemirror_mode": {
    "name": "ipython",
    "version": 3
   },
   "file_extension": ".py",
   "mimetype": "text/x-python",
   "name": "python",
   "nbconvert_exporter": "python",
   "pygments_lexer": "ipython3",
   "version": "3.8.8"
  }
 },
 "nbformat": 4,
 "nbformat_minor": 5
}
