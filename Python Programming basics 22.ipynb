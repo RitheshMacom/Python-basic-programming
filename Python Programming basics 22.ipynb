{
 "cells": [
  {
   "cell_type": "markdown",
   "id": "d2dbc618",
   "metadata": {},
   "source": [
    "### Basic Programming 22"
   ]
  },
  {
   "cell_type": "markdown",
   "id": "a0c89069",
   "metadata": {},
   "source": [
    "### Question1\n",
    "    Create a function that takes three parameters where:\n",
    "     x is the start of the range (inclusive).\n",
    "     y is the end of the range (inclusive).\n",
    "     n is the divisor to be checked against.\n",
    "    Return an ordered list with numbers in the range that are divisible by the third parameter n.\n",
    "    Return an empty list if there are no numbers that are divisible by n.\n",
    "    Examples\n",
    "    list_operation(1, 10, 3) ➞ [3, 6, 9]\n",
    "    list_operation(7, 9, 2) ➞ [8]\n",
    "    list_operation(15, 20, 7) ➞ []"
   ]
  },
  {
   "cell_type": "code",
   "execution_count": 1,
   "id": "a1617521",
   "metadata": {},
   "outputs": [],
   "source": [
    "def list_operation(x,y,n):\n",
    "    \n",
    "    divisor = []\n",
    "    nondiv = []\n",
    "    for i in range(x,y+1):\n",
    "        if i % n == 0:\n",
    "            divisor.append(i)\n",
    "    return divisor\n"
   ]
  },
  {
   "cell_type": "code",
   "execution_count": 2,
   "id": "990ac57f",
   "metadata": {},
   "outputs": [
    {
     "data": {
      "text/plain": [
       "[3, 6, 9]"
      ]
     },
     "execution_count": 2,
     "metadata": {},
     "output_type": "execute_result"
    }
   ],
   "source": [
    "list_operation(1, 10, 3)"
   ]
  },
  {
   "cell_type": "code",
   "execution_count": 3,
   "id": "815783be",
   "metadata": {},
   "outputs": [
    {
     "data": {
      "text/plain": [
       "[8]"
      ]
     },
     "execution_count": 3,
     "metadata": {},
     "output_type": "execute_result"
    }
   ],
   "source": [
    "list_operation(7, 9, 2)"
   ]
  },
  {
   "cell_type": "code",
   "execution_count": 4,
   "id": "a3c9f7bb",
   "metadata": {},
   "outputs": [
    {
     "data": {
      "text/plain": [
       "[]"
      ]
     },
     "execution_count": 4,
     "metadata": {},
     "output_type": "execute_result"
    }
   ],
   "source": [
    "list_operation(15, 20, 7)"
   ]
  },
  {
   "cell_type": "markdown",
   "id": "ba56b1a6",
   "metadata": {},
   "source": [
    "### Question2\n",
    "    Create a function that takes in two lists and returns True if the second list follows the first list\n",
    "    by one element, and False otherwise. In other words, determine if the second list is the first\n",
    "    list shifted to the right by 1.\n",
    "   #### Examples\n",
    "    simon_says([1, 2], [5, 1]) ➞ True\n",
    "    simon_says([1, 2], [5, 5]) ➞ False\n",
    "    simon_says([1, 2, 3, 4, 5], [0, 1, 2, 3, 4]) ➞ True\n",
    "    simon_says([1, 2, 3, 4, 5], [5, 5, 1, 2, 3]) ➞ False\n",
    "   #### Notes\n",
    "     Both input lists will be of the same length, and will have a minimum length of 2.\n",
    "     The values of the 0-indexed element in the second list and the n-1th indexed element\n",
    "    in the first list do not matter."
   ]
  },
  {
   "cell_type": "code",
   "execution_count": 5,
   "id": "cee60af1",
   "metadata": {},
   "outputs": [],
   "source": [
    "def simon_says(l1,l2):\n",
    "    new_list=[]\n",
    "    if len(l1)==len(l2):\n",
    "        if (len(l1)>=2) and (len(l2)>=2):\n",
    "            for i,j in zip(l1[1:len(l1)],l2[1:]):\n",
    "                if i==j+1:\n",
    "                    new_list.append(True)\n",
    "                else:\n",
    "                    new_list.append(False)\n",
    "    if False in new_list:\n",
    "        return False\n",
    "    return True"
   ]
  },
  {
   "cell_type": "code",
   "execution_count": 6,
   "id": "51a5053b",
   "metadata": {},
   "outputs": [
    {
     "name": "stdout",
     "output_type": "stream",
     "text": [
      "True\n",
      "False\n",
      "True\n",
      "False\n"
     ]
    }
   ],
   "source": [
    "print(simon_says([1, 2], [5, 1]))\n",
    "print(simon_says([1, 2], [5, 5]))\n",
    "print(simon_says([1, 2, 3, 4, 5], [0, 1, 2, 3, 4]))\n",
    "print(simon_says([1, 2, 3, 4, 5], [5, 5, 1, 2, 3]))"
   ]
  },
  {
   "cell_type": "markdown",
   "id": "731e7edc",
   "metadata": {},
   "source": [
    "### Question3\n",
    "    A group of friends have decided to start a secret society. The name will be the first letter of\n",
    "    each of their names, sorted in alphabetical order.\n",
    "    Create a function that takes in a list of names and returns the name of the secret society.\n",
    "\n",
    "   #### Examples\n",
    "    society_name(['Adam', 'Sarah', 'Malcolm']) ➞ 'AMS'\n",
    "    society_name(['Harry', 'Newt', 'Luna', 'Cho']) ➞ 'CHLN'\n",
    "    society_name(['Phoebe', 'Chandler', 'Rachel', 'Ross', 'Monica', 'Joey'])"
   ]
  },
  {
   "cell_type": "code",
   "execution_count": 7,
   "id": "68c85021",
   "metadata": {},
   "outputs": [],
   "source": [
    "def society_name(lst):\n",
    "    return ''.join([i[0] for i in sorted(lst)])"
   ]
  },
  {
   "cell_type": "code",
   "execution_count": 8,
   "id": "668c90dd",
   "metadata": {},
   "outputs": [
    {
     "name": "stdout",
     "output_type": "stream",
     "text": [
      "AMS\n",
      "CHLN\n",
      "CJMPRR\n"
     ]
    }
   ],
   "source": [
    "print(society_name(['Adam', 'Sarah', 'Malcolm']))\n",
    "print(society_name(['Harry', 'Newt', 'Luna', 'Cho']))\n",
    "print(society_name(['Phoebe', 'Chandler', 'Rachel', 'Ross', 'Monica', 'Joey']))"
   ]
  },
  {
   "cell_type": "markdown",
   "id": "251ae69f",
   "metadata": {},
   "source": [
    "### Question4\n",
    "    An isogram is a word that has no duplicate letters. Create a function that takes a string and\n",
    "    returns either True or False depending on whether or not it's an 'isogram'.\n",
    "   #### Examples\n",
    "    is_isogram('Algorism') ➞ True\n",
    "    is_isogram('PasSword') ➞ False\n",
    "    # Not case sensitive.\n",
    "    is_isogram('Consecutive') ➞ False\n",
    "   #### Notes\n",
    "     Ignore letter case (should not be case sensitive).\n",
    "     All test cases contain valid one word strings."
   ]
  },
  {
   "cell_type": "code",
   "execution_count": 9,
   "id": "eda5830e",
   "metadata": {},
   "outputs": [],
   "source": [
    "def is_isogram(word):\n",
    "    word_=word.lower()\n",
    "    string1=word_\n",
    "    string2=set(word_)\n",
    "    \n",
    "    if len(string1)==len(string2):\n",
    "        return True\n",
    "    return False"
   ]
  },
  {
   "cell_type": "code",
   "execution_count": 10,
   "id": "794dd0a5",
   "metadata": {},
   "outputs": [
    {
     "name": "stdout",
     "output_type": "stream",
     "text": [
      "True\n",
      "False\n",
      "False\n"
     ]
    }
   ],
   "source": [
    "print(is_isogram(\"Algorism\"))\n",
    "print(is_isogram(\"PasSword\"))\n",
    "print(is_isogram(\"Consecutive\"))"
   ]
  },
  {
   "cell_type": "markdown",
   "id": "2055540c",
   "metadata": {},
   "source": [
    "### Question5\n",
    "\n",
    "    Create a function that takes a string and returns True or False, depending on whether the characters are in order or not.\n",
    "\n",
    "   ### Examples\n",
    "\n",
    "    is_in_order(\"abc\") ➞ True\n",
    "\n",
    "    is_in_order(\"edabit\") ➞ False\n",
    "\n",
    "    is_in_order(\"123\") ➞ True\n",
    "\n",
    "    is_in_order(\"xyzz\") ➞ True\n",
    "\n",
    "   ### Notes\n",
    "\n",
    "    You don't have to handle empty strings."
   ]
  },
  {
   "cell_type": "code",
   "execution_count": 11,
   "id": "ad290fc3",
   "metadata": {},
   "outputs": [],
   "source": [
    "def is_in_order(word):\n",
    "    if len(word)!=0:\n",
    "        if word==''.join(sorted(word)):\n",
    "            return True\n",
    "        return False"
   ]
  },
  {
   "cell_type": "code",
   "execution_count": 12,
   "id": "fa52b26b",
   "metadata": {},
   "outputs": [
    {
     "name": "stdout",
     "output_type": "stream",
     "text": [
      "True\n",
      "False\n",
      "True\n",
      "True\n"
     ]
    }
   ],
   "source": [
    "print(is_in_order(\"abc\"))\n",
    "print(is_in_order(\"edabit\"))\n",
    "print(is_in_order(\"123\"))\n",
    "print(is_in_order(\"xyzz\"))"
   ]
  },
  {
   "cell_type": "code",
   "execution_count": null,
   "id": "bb3d5e50",
   "metadata": {},
   "outputs": [],
   "source": []
  }
 ],
 "metadata": {
  "kernelspec": {
   "display_name": "Python 3",
   "language": "python",
   "name": "python3"
  },
  "language_info": {
   "codemirror_mode": {
    "name": "ipython",
    "version": 3
   },
   "file_extension": ".py",
   "mimetype": "text/x-python",
   "name": "python",
   "nbconvert_exporter": "python",
   "pygments_lexer": "ipython3",
   "version": "3.8.8"
  }
 },
 "nbformat": 4,
 "nbformat_minor": 5
}
