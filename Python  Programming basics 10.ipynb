{
 "cells": [
  {
   "cell_type": "markdown",
   "id": "fc42270f",
   "metadata": {},
   "source": [
    "## Basic_programming 10"
   ]
  },
  {
   "cell_type": "markdown",
   "id": "328010b6",
   "metadata": {},
   "source": [
    "### 1. Write a Python Program to find the sum of elements in list? "
   ]
  },
  {
   "cell_type": "code",
   "execution_count": 20,
   "id": "15647379",
   "metadata": {},
   "outputs": [
    {
     "name": "stdout",
     "output_type": "stream",
     "text": [
      "Enter the lenth of your list : 3\n",
      "3\n",
      "4\n",
      "6\n",
      "The List is  [3, 4, 6]\n",
      "Sum of elements in List 13\n"
     ]
    }
   ],
   "source": [
    "n = int(input(\"Enter the lenth of your list : \"))\n",
    "lst = []\n",
    "\n",
    "for i in range(n):\n",
    "    lst.append(int(input()))\n",
    "print(\"The List is \",lst)\n",
    "print(\"Sum of elements in List\",sum(lst))    "
   ]
  },
  {
   "cell_type": "markdown",
   "id": "942b0186",
   "metadata": {},
   "source": [
    "### 2.Write a Python Program to Multiply all the numbers in the list?"
   ]
  },
  {
   "cell_type": "code",
   "execution_count": 21,
   "id": "ea869105",
   "metadata": {},
   "outputs": [
    {
     "data": {
      "text/plain": [
       "120"
      ]
     },
     "execution_count": 21,
     "metadata": {},
     "output_type": "execute_result"
    }
   ],
   "source": [
    "lst = [1,2,3,4,5]\n",
    "mul = 1\n",
    "for i in lst:\n",
    "    mul*=i\n",
    "mul"
   ]
  },
  {
   "cell_type": "markdown",
   "id": "f81b823e",
   "metadata": {},
   "source": [
    "### 3. Write a Python program to find smallest number in a list?"
   ]
  },
  {
   "cell_type": "code",
   "execution_count": 26,
   "id": "482394ad",
   "metadata": {},
   "outputs": [
    {
     "name": "stdout",
     "output_type": "stream",
     "text": [
      "The smallest number is the list [4, 7, 9, 1, 2, 7, 4, 3, 2] is: 1\n"
     ]
    }
   ],
   "source": [
    "l=[4,7,9,1,2,7,4,3,2]\n",
    "\n",
    "print(f'The smallest number in the list {l} is: {sorted(l)[0]}')"
   ]
  },
  {
   "cell_type": "markdown",
   "id": "984b7032",
   "metadata": {},
   "source": [
    "### 4.Write a Python program to find largest number in a list?"
   ]
  },
  {
   "cell_type": "code",
   "execution_count": 30,
   "id": "8a1ac6e8",
   "metadata": {},
   "outputs": [
    {
     "name": "stdout",
     "output_type": "stream",
     "text": [
      "The largest number in the list [4, 7, 9, 1, 2, 7, 4, 3, 2] is: 9\n"
     ]
    }
   ],
   "source": [
    "l=[4,7,9,1,2,7,4,3,2]\n",
    "\n",
    "print(f'The largest number in the list {l} is: {sorted(l)[-1]}')"
   ]
  },
  {
   "cell_type": "markdown",
   "id": "48ad89d4",
   "metadata": {},
   "source": [
    "### 5. Write a Python program to find second largest number in a list?"
   ]
  },
  {
   "cell_type": "code",
   "execution_count": 31,
   "id": "d990cccc",
   "metadata": {},
   "outputs": [
    {
     "name": "stdout",
     "output_type": "stream",
     "text": [
      "Enter the lenth of your list : 4\n",
      "5\n",
      "7\n",
      "8\n",
      "2\n",
      "The List is  [5, 7, 8, 2]\n",
      "The sorted list is  [2, 5, 7, 8]\n",
      "The second largest element in the list is  7\n"
     ]
    }
   ],
   "source": [
    "n = int(input(\"Enter the lenth of your list : \"))\n",
    "lst = []\n",
    "\n",
    "for i in range(n):\n",
    "    lst.append(int(input()))\n",
    "print(\"The List is \",lst)\n",
    "lst.sort()\n",
    "print(\"The sorted list is \",lst)\n",
    "print(\"The second largest element in the list is \",lst[-2])"
   ]
  },
  {
   "cell_type": "markdown",
   "id": "b1bca481",
   "metadata": {},
   "source": [
    "### 6. Write a Python program to find N largest elements from a list?"
   ]
  },
  {
   "cell_type": "code",
   "execution_count": 40,
   "id": "5c9ae260",
   "metadata": {},
   "outputs": [
    {
     "name": "stdout",
     "output_type": "stream",
     "text": [
      "The sorted numbers are  [11, 12, 21, 22, 34, 58, 65, 78]\n",
      "The 3 largest number in the list [11, 12, 21, 22, 34, 58, 65, 78] is: [78, 65, 58]\n"
     ]
    }
   ],
   "source": [
    "l = [11,21,12,65,58,34,78,22]\n",
    "print(\"The sorted numbers are \",sorted(l))\n",
    "n = 3 #suppose let's assume n = 3\n",
    "print(f'The {n} largest number in the list {sorted(l)} is: {sorted(l)[:4:-1]}')"
   ]
  },
  {
   "cell_type": "markdown",
   "id": "c6789882",
   "metadata": {},
   "source": [
    "### 7.Write a Python program to print even numbers in a list?"
   ]
  },
  {
   "cell_type": "code",
   "execution_count": 50,
   "id": "209375c6",
   "metadata": {},
   "outputs": [
    {
     "name": "stdout",
     "output_type": "stream",
     "text": [
      "Even Number from the list is 12\n",
      "Even Number from the list is 58\n",
      "Even Number from the list is 34\n",
      "Even Number from the list is 78\n",
      "Even Number from the list is 22\n"
     ]
    }
   ],
   "source": [
    "l = [11,21,12,65,58,34,78,22]\n",
    "for i in l:\n",
    "    if i%2==0:\n",
    "        print(\"Even Number from the list is\",i)    "
   ]
  },
  {
   "cell_type": "markdown",
   "id": "cf45f593",
   "metadata": {},
   "source": [
    "### 8.Write a Python program to print odd numbers in a List?"
   ]
  },
  {
   "cell_type": "code",
   "execution_count": 52,
   "id": "a28e3575",
   "metadata": {},
   "outputs": [
    {
     "name": "stdout",
     "output_type": "stream",
     "text": [
      "ODD Number from the list is 11\n",
      "ODD Number from the list is 21\n",
      "ODD Number from the list is 65\n"
     ]
    }
   ],
   "source": [
    "l = [11,21,12,65,58,34,78,22]\n",
    "for i in l:\n",
    "    if i%2==1:\n",
    "        print(\"ODD Number from the list is\",i)   "
   ]
  },
  {
   "cell_type": "markdown",
   "id": "c448b64d",
   "metadata": {},
   "source": [
    "### 9.Write a Python program to Remove empty List from List?"
   ]
  },
  {
   "cell_type": "code",
   "execution_count": 53,
   "id": "b279f73c",
   "metadata": {},
   "outputs": [
    {
     "name": "stdout",
     "output_type": "stream",
     "text": [
      "[[1, 2, 3], [4, 5], ['s', 'h']]\n"
     ]
    }
   ],
   "source": [
    "list=[[1,2,3],[4,5],[],['s','h'],[]]\n",
    "for i in list:\n",
    "    if (len(i)==0):\n",
    "        list.remove(i)\n",
    "print(list)"
   ]
  },
  {
   "cell_type": "markdown",
   "id": "ab2521e0",
   "metadata": {},
   "source": [
    "### 10.Write a Python program to Cloning or Copying a list?"
   ]
  },
  {
   "cell_type": "code",
   "execution_count": 54,
   "id": "4a24ccbd",
   "metadata": {},
   "outputs": [
    {
     "name": "stdout",
     "output_type": "stream",
     "text": [
      "[1, 2, 3, 4, 5, 6, 7]\n"
     ]
    }
   ],
   "source": [
    "#This is one way\n",
    "l1 = [1,2,3,4,5,6,7]\n",
    "l2 = l1\n",
    "print(l2)"
   ]
  },
  {
   "cell_type": "code",
   "execution_count": 57,
   "id": "58994f64",
   "metadata": {},
   "outputs": [
    {
     "data": {
      "text/plain": [
       "[12, 5, 7, 5, 7, 5]"
      ]
     },
     "execution_count": 57,
     "metadata": {},
     "output_type": "execute_result"
    }
   ],
   "source": [
    "lst = [12,5,7,5,7,5]\n",
    "clone_lst = [i for i in lst] #adding all elemetn inside clone list\n",
    "clone_lst #exact copy of lst"
   ]
  },
  {
   "cell_type": "markdown",
   "id": "03928342",
   "metadata": {},
   "source": [
    "### 11. Write a Python program to Count occurrences of an element in a list?"
   ]
  },
  {
   "cell_type": "code",
   "execution_count": 60,
   "id": "72d7021c",
   "metadata": {},
   "outputs": [
    {
     "name": "stdout",
     "output_type": "stream",
     "text": [
      "Enter the lenth of your list : 8\n",
      "1\n",
      "2\n",
      "42\n",
      "2\n",
      "2\n",
      "1\n",
      "1\n",
      "3\n",
      "The List is  [1, 2, 42, 2, 2, 1, 1, 3]\n",
      "Enter the element to find its occurance : 2\n",
      "2 has occured 3 times in the list \n"
     ]
    }
   ],
   "source": [
    "n = int(input(\"Enter the lenth of your list : \"))\n",
    "lst = []\n",
    "\n",
    "for i in range(n):\n",
    "    lst.append(int(input()))\n",
    "print(\"The List is \",lst)\n",
    "ele= int(input(\"Enter the element to find its occurance : \"))\n",
    "print(ele,\"has occured {} times in the list \".format(lst.count(ele)))"
   ]
  },
  {
   "cell_type": "code",
   "execution_count": null,
   "id": "0a2f2d63",
   "metadata": {},
   "outputs": [],
   "source": []
  }
 ],
 "metadata": {
  "kernelspec": {
   "display_name": "Python 3",
   "language": "python",
   "name": "python3"
  },
  "language_info": {
   "codemirror_mode": {
    "name": "ipython",
    "version": 3
   },
   "file_extension": ".py",
   "mimetype": "text/x-python",
   "name": "python",
   "nbconvert_exporter": "python",
   "pygments_lexer": "ipython3",
   "version": "3.8.8"
  }
 },
 "nbformat": 4,
 "nbformat_minor": 5
}
