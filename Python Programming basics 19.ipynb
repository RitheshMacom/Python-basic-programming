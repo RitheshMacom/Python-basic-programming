{
 "cells": [
  {
   "cell_type": "markdown",
   "id": "15dd518c",
   "metadata": {},
   "source": [
    "### Basic Programming 19"
   ]
  },
  {
   "cell_type": "markdown",
   "id": "08eb0209",
   "metadata": {},
   "source": [
    "### Question1\n",
    "    Create a function that takes a string and returns a string in which each character is repeated once\n",
    "    \n",
    "    Examples\n",
    "    double_char('String') ➞ 'SSttrriinngg'\n",
    "    double_char('Hello World!') ➞ 'HHeelllloo WWoorrlldd!!'\n",
    "    double_char('1234!_ ') ➞ '11223344!!__ '"
   ]
  },
  {
   "cell_type": "code",
   "execution_count": 5,
   "id": "0986e729",
   "metadata": {},
   "outputs": [
    {
     "name": "stdout",
     "output_type": "stream",
     "text": [
      "aabbcc\n"
     ]
    }
   ],
   "source": [
    "def double(str):\n",
    "    return ''.join([c+c for c in str])\n",
    "print(double('abc'))"
   ]
  },
  {
   "cell_type": "code",
   "execution_count": 6,
   "id": "4fd54d23",
   "metadata": {},
   "outputs": [
    {
     "name": "stdout",
     "output_type": "stream",
     "text": [
      "SSttrriinngg\n"
     ]
    }
   ],
   "source": [
    "print(double('String'))"
   ]
  },
  {
   "cell_type": "code",
   "execution_count": 7,
   "id": "6a592b38",
   "metadata": {},
   "outputs": [
    {
     "name": "stdout",
     "output_type": "stream",
     "text": [
      "HHeelllloo  WWoorrlldd!!\n"
     ]
    }
   ],
   "source": [
    "print(double('Hello World!'))"
   ]
  },
  {
   "cell_type": "code",
   "execution_count": 8,
   "id": "1a5ce53e",
   "metadata": {},
   "outputs": [
    {
     "name": "stdout",
     "output_type": "stream",
     "text": [
      "11223344!!__  \n"
     ]
    }
   ],
   "source": [
    "print(double('1234!_ '))"
   ]
  },
  {
   "cell_type": "markdown",
   "id": "f6c7b3ac",
   "metadata": {},
   "source": [
    "### Question2\n",
    "    Create a function that reverses a boolean value and returns the string 'boolean expected'\n",
    "    if another variable type is given.\n",
    "    Examples\n",
    "    reverse(True) ➞ False\n",
    "    reverse(False) ➞ True\n",
    "    reverse(0) ➞ 'boolean expected'\n",
    "    reverse(None) ➞ 'boolean expected'"
   ]
  },
  {
   "cell_type": "code",
   "execution_count": 9,
   "id": "c8e09e67",
   "metadata": {},
   "outputs": [],
   "source": [
    "def reverse(a):\n",
    "    if type(a)==bool:\n",
    "        return not a\n",
    "    else:\n",
    "        return 'boolean expected'"
   ]
  },
  {
   "cell_type": "code",
   "execution_count": 10,
   "id": "4dde1ebf",
   "metadata": {},
   "outputs": [
    {
     "data": {
      "text/plain": [
       "True"
      ]
     },
     "execution_count": 10,
     "metadata": {},
     "output_type": "execute_result"
    }
   ],
   "source": [
    "reverse(False)"
   ]
  },
  {
   "cell_type": "code",
   "execution_count": 11,
   "id": "775f5eba",
   "metadata": {},
   "outputs": [
    {
     "data": {
      "text/plain": [
       "False"
      ]
     },
     "execution_count": 11,
     "metadata": {},
     "output_type": "execute_result"
    }
   ],
   "source": [
    "reverse(True)"
   ]
  },
  {
   "cell_type": "code",
   "execution_count": 12,
   "id": "cf8905a7",
   "metadata": {},
   "outputs": [
    {
     "data": {
      "text/plain": [
       "'boolean expected'"
      ]
     },
     "execution_count": 12,
     "metadata": {},
     "output_type": "execute_result"
    }
   ],
   "source": [
    "reverse(0)"
   ]
  },
  {
   "cell_type": "code",
   "execution_count": 13,
   "id": "b65353a9",
   "metadata": {},
   "outputs": [
    {
     "data": {
      "text/plain": [
       "'boolean expected'"
      ]
     },
     "execution_count": 13,
     "metadata": {},
     "output_type": "execute_result"
    }
   ],
   "source": [
    "reverse(None)"
   ]
  },
  {
   "cell_type": "markdown",
   "id": "86db2be9",
   "metadata": {},
   "source": [
    "### Question3\n",
    "    Create a function that returns the thickness (in meters) of a piece of paper after folding it n\n",
    "    number of times. The paper starts off with a thickness of 0.5mm.\n",
    "    Examples\n",
    "    num_layers(1) ➞ '0.001m'\n",
    "    # Paper folded once is 1mm (equal to 0.001m)\n",
    "    num_layers(4) ➞ '0.008m'\n",
    "    # Paper folded 4 times is 8mm (equal to 0.008m)\n",
    "    num_layers(21) ➞ '1048.576m'\n",
    "    # Paper folded 21 times is 1048576mm (equal to 1048.576m)"
   ]
  },
  {
   "cell_type": "code",
   "execution_count": 14,
   "id": "0b592a57",
   "metadata": {},
   "outputs": [
    {
     "name": "stdout",
     "output_type": "stream",
     "text": [
      "0.001m\n",
      "0.008m\n",
      "1048.576m\n"
     ]
    }
   ],
   "source": [
    "def num_layers(n):\n",
    "    thickness = 0.5\n",
    "    for _ in range(n):\n",
    "        thickness *= 2\n",
    "    \n",
    "    return str(thickness / 1000)+'m' # for meters\n",
    "\n",
    "print(num_layers(1))\n",
    "print(num_layers(4))\n",
    "print(num_layers(21))"
   ]
  },
  {
   "cell_type": "markdown",
   "id": "00e8495b",
   "metadata": {},
   "source": [
    "### Question4\n",
    "    Create a function that takes a single string as argument and returns an ordered list containing\n",
    "    the indices of all capital letters in the string.\n",
    "    Examples\n",
    "    index_of_caps('eDaBiT') ➞ [1, 3, 5]\n",
    "    index_of_caps('eQuINoX') ➞ [1, 3, 4, 6]\n",
    "    index_of_caps('determine') ➞ []\n",
    "    index_of_caps('STRIKE') ➞ [0, 1, 2, 3, 4, 5]\n",
    "    index_of_caps('sUn') ➞ [1]"
   ]
  },
  {
   "cell_type": "code",
   "execution_count": 15,
   "id": "f64b2423",
   "metadata": {},
   "outputs": [],
   "source": [
    "def index_of_caps(l):\n",
    "#     l=sorted(l)\n",
    "    l1=[]\n",
    "    for i in l:\n",
    "        if i.isupper():\n",
    "            l1.append(l.index(i))\n",
    "    return l1"
   ]
  },
  {
   "cell_type": "code",
   "execution_count": 16,
   "id": "b25d98e5",
   "metadata": {},
   "outputs": [
    {
     "data": {
      "text/plain": [
       "[1, 3, 5]"
      ]
     },
     "execution_count": 16,
     "metadata": {},
     "output_type": "execute_result"
    }
   ],
   "source": [
    "index_of_caps('eDaBiT')"
   ]
  },
  {
   "cell_type": "code",
   "execution_count": 17,
   "id": "70457ece",
   "metadata": {},
   "outputs": [
    {
     "data": {
      "text/plain": [
       "[1, 3, 4, 6]"
      ]
     },
     "execution_count": 17,
     "metadata": {},
     "output_type": "execute_result"
    }
   ],
   "source": [
    "index_of_caps('eQuINoX')"
   ]
  },
  {
   "cell_type": "code",
   "execution_count": 18,
   "id": "67925a5b",
   "metadata": {},
   "outputs": [
    {
     "data": {
      "text/plain": [
       "[]"
      ]
     },
     "execution_count": 18,
     "metadata": {},
     "output_type": "execute_result"
    }
   ],
   "source": [
    "index_of_caps('determine')"
   ]
  },
  {
   "cell_type": "code",
   "execution_count": 19,
   "id": "5ce12a63",
   "metadata": {},
   "outputs": [
    {
     "data": {
      "text/plain": [
       "[0, 1, 2, 3, 4, 5]"
      ]
     },
     "execution_count": 19,
     "metadata": {},
     "output_type": "execute_result"
    }
   ],
   "source": [
    "index_of_caps('STRIKE')"
   ]
  },
  {
   "cell_type": "code",
   "execution_count": 20,
   "id": "86778540",
   "metadata": {},
   "outputs": [
    {
     "data": {
      "text/plain": [
       "[1]"
      ]
     },
     "execution_count": 20,
     "metadata": {},
     "output_type": "execute_result"
    }
   ],
   "source": [
    "index_of_caps('sUn')"
   ]
  },
  {
   "cell_type": "markdown",
   "id": "92e7b956",
   "metadata": {},
   "source": [
    "### Question5\n",
    "\n",
    "    Using list comprehensions, create a function that finds all even numbers from 1 to the given number.\n",
    "\n",
    "    Examples\n",
    "\n",
    "    find_even_nums(8) ➞ [2, 4, 6, 8]\n",
    "\n",
    "    find_even_nums(4) ➞ [2, 4]\n",
    "\n",
    "    find_even_nums(2) ➞ [2]"
   ]
  },
  {
   "cell_type": "code",
   "execution_count": 21,
   "id": "3b48d4a6",
   "metadata": {},
   "outputs": [
    {
     "name": "stdout",
     "output_type": "stream",
     "text": [
      "Enter a number : 8\n"
     ]
    },
    {
     "data": {
      "text/plain": [
       "[2, 4, 6, 8]"
      ]
     },
     "execution_count": 21,
     "metadata": {},
     "output_type": "execute_result"
    }
   ],
   "source": [
    "def find_even_nums(n):\n",
    "    even =[x for x in range(2,n+1) if x % 2 == 0]\n",
    "    return even\n",
    "\n",
    "n = int(input('Enter a number : '))\n",
    "find_even_nums(n)"
   ]
  },
  {
   "cell_type": "code",
   "execution_count": 22,
   "id": "168f106e",
   "metadata": {},
   "outputs": [
    {
     "data": {
      "text/plain": [
       "[2, 4, 6, 8]"
      ]
     },
     "execution_count": 22,
     "metadata": {},
     "output_type": "execute_result"
    }
   ],
   "source": [
    "find_even_nums(8)"
   ]
  },
  {
   "cell_type": "code",
   "execution_count": 23,
   "id": "29a1bbb0",
   "metadata": {},
   "outputs": [
    {
     "data": {
      "text/plain": [
       "[2, 4]"
      ]
     },
     "execution_count": 23,
     "metadata": {},
     "output_type": "execute_result"
    }
   ],
   "source": [
    "find_even_nums(4)"
   ]
  },
  {
   "cell_type": "code",
   "execution_count": 24,
   "id": "64ad23ea",
   "metadata": {},
   "outputs": [
    {
     "data": {
      "text/plain": [
       "[2]"
      ]
     },
     "execution_count": 24,
     "metadata": {},
     "output_type": "execute_result"
    }
   ],
   "source": [
    "find_even_nums(2)"
   ]
  },
  {
   "cell_type": "code",
   "execution_count": null,
   "id": "67702c15",
   "metadata": {},
   "outputs": [],
   "source": []
  }
 ],
 "metadata": {
  "kernelspec": {
   "display_name": "Python 3",
   "language": "python",
   "name": "python3"
  },
  "language_info": {
   "codemirror_mode": {
    "name": "ipython",
    "version": 3
   },
   "file_extension": ".py",
   "mimetype": "text/x-python",
   "name": "python",
   "nbconvert_exporter": "python",
   "pygments_lexer": "ipython3",
   "version": "3.8.8"
  }
 },
 "nbformat": 4,
 "nbformat_minor": 5
}
