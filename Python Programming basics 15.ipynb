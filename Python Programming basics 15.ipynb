{
 "cells": [
  {
   "cell_type": "markdown",
   "id": "1ef2e9da",
   "metadata": {},
   "source": [
    "## Basics 15"
   ]
  },
  {
   "cell_type": "markdown",
   "id": "d331f53c",
   "metadata": {},
   "source": [
    "### Question 1:\n",
    "\n",
    "### Please write a program using generator to print the numbers which can be divisible by 5 and 7 between 0 and n in comma separated form while n is input by console.\n",
    "\n",
    "#### Example:\n",
    "\n",
    "### If the following n is given as input to the program: 100\n",
    "\n",
    "### Then, the output of the program should be: 0,35,70"
   ]
  },
  {
   "cell_type": "code",
   "execution_count": 1,
   "id": "41e85aa0",
   "metadata": {},
   "outputs": [
    {
     "name": "stdout",
     "output_type": "stream",
     "text": [
      "enter n : 100\n",
      "0,35,70\n"
     ]
    }
   ],
   "source": [
    "def putNumbers(n): \n",
    "    i = 0 \n",
    "    while i < n:\n",
    "        j = i\n",
    "        i += 1 \n",
    "        if j % 7 == 0 and j % 5 == 0:\n",
    "            yield j\n",
    "n = int(input('enter n : '))\n",
    "num =[]\n",
    "for i in putNumbers(n): \n",
    "    num.append(str(i))\n",
    "    \n",
    "print(','.join(num))"
   ]
  },
  {
   "cell_type": "markdown",
   "id": "b56bbfc3",
   "metadata": {},
   "source": [
    "### Question 2:\n",
    "### Please write a program using generator to print the even numbers between 0 and n in comma\n",
    "### separated form while n is input by console.\n",
    "#### Example:\n",
    "### If the following n is given as input to the program:\n",
    "### 10\n",
    "### Then, the output of the program should be:\n",
    "### 0,2,4,6,8,10"
   ]
  },
  {
   "cell_type": "code",
   "execution_count": 2,
   "id": "530ff12b",
   "metadata": {},
   "outputs": [
    {
     "name": "stdout",
     "output_type": "stream",
     "text": [
      "Enter the range:- 10\n",
      "0,2,4,6,8,10,"
     ]
    }
   ],
   "source": [
    "def even():  #creating the function\n",
    "    try:\n",
    "        n=int(input('Enter the range:- ')) #takinhg the input\n",
    "        for i in range(n+1):\n",
    "            if i%2==0:\n",
    "                yield i\n",
    "    except Exception as e:\n",
    "        log.info(str(e))\n",
    "        \n",
    "        \n",
    "even_gen = even()\n",
    "for i in even_gen:\n",
    "    print(i, end=',')"
   ]
  },
  {
   "cell_type": "markdown",
   "id": "dfecf1ce",
   "metadata": {},
   "source": [
    "### Question 3:\n",
    "#### The Fibonacci Sequence is computed based on the following formula:\n",
    "\n",
    "##### f(n)=0 if n=0\n",
    "\n",
    "##### f(n)=1 if n=1\n",
    "\n",
    "##### f(n)=f(n-1)+f(n-2) if n>1\n",
    "\n",
    "#### Please write a program using list comprehension to print the Fibonacci Sequence in comma separated form with a given n input by console.\n",
    "\n",
    "#### Example:\n",
    "\n",
    "#### If the following n is given as input to the program:\n",
    "\n",
    "#### 7\n",
    "\n",
    "#### Then, the output of the program should be:\n",
    "\n",
    "#### 0,1,1,2,3,5,8,13"
   ]
  },
  {
   "cell_type": "code",
   "execution_count": 3,
   "id": "fa0dfb79",
   "metadata": {},
   "outputs": [
    {
     "name": "stdout",
     "output_type": "stream",
     "text": [
      "7\n",
      "0,1,1,2,3,5,8,13\n"
     ]
    }
   ],
   "source": [
    "n = int(input())\n",
    "f = lambda x: 0 if x == 0 else 1 if x == 1 else f(x-1)+f(x-2)\n",
    "print(','.join([str(f(x)) for x in range(0, n+1)]))"
   ]
  },
  {
   "cell_type": "markdown",
   "id": "4bfa7f87",
   "metadata": {},
   "source": [
    "### Question 4:\n",
    "### Assuming that we have some email addresses in the \"username@companyname.com\" format, please write program to print the user name of a given email address. Both user names and company names are composed of letters only. Example:\n",
    "\n",
    "#### If the following email address is given as input to the program:\n",
    "\n",
    "#### john@google.com\n",
    "\n",
    "#### Then, the output of the program should be:\n",
    "\n",
    "#### john"
   ]
  },
  {
   "cell_type": "code",
   "execution_count": 4,
   "id": "aecda5bc",
   "metadata": {},
   "outputs": [],
   "source": [
    "def reg_search(my_str):\n",
    "    import re\n",
    "    pat = re.compile(r'(\\w+)@(\\w+)\\.(\\w+)') #words@words.words\n",
    "    grp = pat.search(my_str)\n",
    "    return grp.group(1)  #getting the first group"
   ]
  },
  {
   "cell_type": "code",
   "execution_count": 5,
   "id": "989d00aa",
   "metadata": {},
   "outputs": [
    {
     "data": {
      "text/plain": [
       "'username'"
      ]
     },
     "execution_count": 5,
     "metadata": {},
     "output_type": "execute_result"
    }
   ],
   "source": [
    "reg_search(\"username@companyname.com\")"
   ]
  },
  {
   "cell_type": "code",
   "execution_count": 6,
   "id": "467637de",
   "metadata": {},
   "outputs": [
    {
     "data": {
      "text/plain": [
       "'john'"
      ]
     },
     "execution_count": 6,
     "metadata": {},
     "output_type": "execute_result"
    }
   ],
   "source": [
    "reg_search('john@google.com')"
   ]
  },
  {
   "cell_type": "markdown",
   "id": "0eaaaa84",
   "metadata": {},
   "source": [
    "### Question 5:\n",
    "#### Define a class named Shape and its subclass Square. The Square class has an init function which takes a length as argument. Both classes have a area function which can print the area of the shape where Shape's area is 0 by default."
   ]
  },
  {
   "cell_type": "code",
   "execution_count": 7,
   "id": "bf7be802",
   "metadata": {},
   "outputs": [
    {
     "name": "stdout",
     "output_type": "stream",
     "text": [
      "9\n"
     ]
    }
   ],
   "source": [
    "\n",
    "class Shape(object):\n",
    "    def __init__(self):\n",
    "        pass\n",
    "\n",
    "    def area(self):\n",
    "        return 0\n",
    "\n",
    "class Square(Shape):\n",
    "    def __init__(self, l):\n",
    "        Shape.__init__(self)\n",
    "        self.length = l\n",
    "\n",
    "    def area(self):\n",
    "        return self.length*self.length\n",
    "\n",
    "objSquare= Square(3)\n",
    "print(objSquare.area())"
   ]
  },
  {
   "cell_type": "code",
   "execution_count": null,
   "id": "12a6eaad",
   "metadata": {},
   "outputs": [],
   "source": []
  }
 ],
 "metadata": {
  "kernelspec": {
   "display_name": "Python 3",
   "language": "python",
   "name": "python3"
  },
  "language_info": {
   "codemirror_mode": {
    "name": "ipython",
    "version": 3
   },
   "file_extension": ".py",
   "mimetype": "text/x-python",
   "name": "python",
   "nbconvert_exporter": "python",
   "pygments_lexer": "ipython3",
   "version": "3.8.8"
  }
 },
 "nbformat": 4,
 "nbformat_minor": 5
}
