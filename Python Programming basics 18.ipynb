{
 "cells": [
  {
   "cell_type": "markdown",
   "id": "1c3ec022",
   "metadata": {},
   "source": [
    "### Basic Programming 18"
   ]
  },
  {
   "cell_type": "markdown",
   "id": "c826cbee",
   "metadata": {},
   "source": [
    "### Question 1\n",
    "    Create a function that takes a list of non-negative integers and strings and return a new list\n",
    "    without the strings.\n",
    "    Examples\n",
    "    filter_list([1, 2, 'a', 'b']) ➞ [1, 2]\n",
    "    filter_list([1, 'a', 'b', 0, 15]) ➞ [1, 0, 15]\n",
    "    filter_list([1, 2, 'aasf', '1', '123', 123]) ➞ [1, 2, 123]"
   ]
  },
  {
   "cell_type": "code",
   "execution_count": 3,
   "id": "e1c19595",
   "metadata": {},
   "outputs": [
    {
     "name": "stdout",
     "output_type": "stream",
     "text": [
      "[1, 0, 15]\n"
     ]
    }
   ],
   "source": [
    "l = [1, 'a', 'b', 0, 15]\n",
    "\n",
    "def filter_list(l):\n",
    "    new_list = []\n",
    "    for x in l:\n",
    "        if type(x) == int:\n",
    "            new_list.append(x)\n",
    "    return new_list\n",
    "\n",
    "print(filter_list(l))"
   ]
  },
  {
   "cell_type": "markdown",
   "id": "a9e92d16",
   "metadata": {},
   "source": [
    "### Question 2\n",
    "    The 'Reverser' takes a string as input and returns that string in reverse order, with the\n",
    "    opposite case.\n",
    "    Examples\n",
    "    reverse('Hello World') ➞ 'DLROw OLLEh'\n",
    "    reverse('ReVeRsE') ➞ 'eSrEvEr'\n",
    "    reverse('Radar') ➞ 'RADAr'"
   ]
  },
  {
   "cell_type": "code",
   "execution_count": 4,
   "id": "0505eeb9",
   "metadata": {},
   "outputs": [
    {
     "name": "stdout",
     "output_type": "stream",
     "text": [
      "DLROw OLLEh\n"
     ]
    }
   ],
   "source": [
    "def reverse(str):\n",
    "    str = str[::-1]\n",
    "    return str.swapcase()\n",
    "    \n",
    "print(reverse('Hello World'))"
   ]
  },
  {
   "cell_type": "code",
   "execution_count": 5,
   "id": "484699fa",
   "metadata": {},
   "outputs": [
    {
     "data": {
      "text/plain": [
       "'eSrEvEr'"
      ]
     },
     "execution_count": 5,
     "metadata": {},
     "output_type": "execute_result"
    }
   ],
   "source": [
    "reverse('ReVeRsE')"
   ]
  },
  {
   "cell_type": "code",
   "execution_count": 6,
   "id": "fee0325c",
   "metadata": {},
   "outputs": [
    {
     "data": {
      "text/plain": [
       "'RADAr'"
      ]
     },
     "execution_count": 6,
     "metadata": {},
     "output_type": "execute_result"
    }
   ],
   "source": [
    "reverse('Radar')"
   ]
  },
  {
   "cell_type": "markdown",
   "id": "d4c9022c",
   "metadata": {},
   "source": [
    "### Question 3\n",
    "    You can assign variables from lists like this:\n",
    "    lst = [1, 2, 3, 4, 5, 6]\n",
    "    first = lst[0]\n",
    "    middle = lst[1:-1]\n",
    "    last = lst[-1]\n",
    "    print(first) ➞ outputs 1\n",
    "    print(middle) ➞ outputs [2, 3, 4, 5]\n",
    "    print(last) ➞ outputs 6\n",
    "    With Python 3, you can assign variables from lists in a much more succinct way. Create\n",
    "    variables first, middle and last from the given list using destructuring assignment\n",
    "    (check the Resources tab for some examples), where:\n",
    "    first ➞ 1\n",
    "    middle ➞ [2, 3, 4, 5]\n",
    "    last ➞ 6\n",
    "\n",
    "    Your task is to unpack the list writeyourcodehere into three variables, being first,\n",
    "    middle, and last, with middle being everything in between the first and last element. Then\n",
    "    print all three variables."
   ]
  },
  {
   "cell_type": "code",
   "execution_count": 7,
   "id": "37bddf8c",
   "metadata": {},
   "outputs": [],
   "source": [
    "lst = [1, 2, 3, 4, 5, 6]\n",
    "first ,*middle,last = lst"
   ]
  },
  {
   "cell_type": "code",
   "execution_count": 8,
   "id": "f2a8be31",
   "metadata": {},
   "outputs": [
    {
     "data": {
      "text/plain": [
       "1"
      ]
     },
     "execution_count": 8,
     "metadata": {},
     "output_type": "execute_result"
    }
   ],
   "source": [
    "first"
   ]
  },
  {
   "cell_type": "code",
   "execution_count": 9,
   "id": "872e252e",
   "metadata": {},
   "outputs": [
    {
     "data": {
      "text/plain": [
       "[2, 3, 4, 5]"
      ]
     },
     "execution_count": 9,
     "metadata": {},
     "output_type": "execute_result"
    }
   ],
   "source": [
    "middle"
   ]
  },
  {
   "cell_type": "code",
   "execution_count": 10,
   "id": "a1483a68",
   "metadata": {},
   "outputs": [
    {
     "data": {
      "text/plain": [
       "6"
      ]
     },
     "execution_count": 10,
     "metadata": {},
     "output_type": "execute_result"
    }
   ],
   "source": [
    "last"
   ]
  },
  {
   "cell_type": "markdown",
   "id": "094cc2b6",
   "metadata": {},
   "source": [
    "### Question 4\n",
    "    Write a function that calculates the factorial of a number recursively.\n",
    "    Examples\n",
    "    factorial(5) ➞ 120\n",
    "    factorial(3) ➞ 6\n",
    "    factorial(1) ➞ 1\n",
    "    factorial(0) ➞ 1"
   ]
  },
  {
   "cell_type": "code",
   "execution_count": 11,
   "id": "0dd1b3b3",
   "metadata": {},
   "outputs": [],
   "source": [
    "def factorial(num):\n",
    "    if num==0:\n",
    "        return 1\n",
    "    else:\n",
    "        return num*factorial(num-1)"
   ]
  },
  {
   "cell_type": "code",
   "execution_count": 13,
   "id": "3a6103ca",
   "metadata": {},
   "outputs": [
    {
     "data": {
      "text/plain": [
       "120"
      ]
     },
     "execution_count": 13,
     "metadata": {},
     "output_type": "execute_result"
    }
   ],
   "source": [
    "factorial(5)"
   ]
  },
  {
   "cell_type": "code",
   "execution_count": 14,
   "id": "5b0667ea",
   "metadata": {},
   "outputs": [
    {
     "data": {
      "text/plain": [
       "6"
      ]
     },
     "execution_count": 14,
     "metadata": {},
     "output_type": "execute_result"
    }
   ],
   "source": [
    "factorial(3)"
   ]
  },
  {
   "cell_type": "code",
   "execution_count": 15,
   "id": "764af09e",
   "metadata": {},
   "outputs": [
    {
     "data": {
      "text/plain": [
       "1"
      ]
     },
     "execution_count": 15,
     "metadata": {},
     "output_type": "execute_result"
    }
   ],
   "source": [
    "factorial(1)"
   ]
  },
  {
   "cell_type": "code",
   "execution_count": 16,
   "id": "d37cee83",
   "metadata": {},
   "outputs": [
    {
     "data": {
      "text/plain": [
       "1"
      ]
     },
     "execution_count": 16,
     "metadata": {},
     "output_type": "execute_result"
    }
   ],
   "source": [
    "factorial(0)"
   ]
  },
  {
   "cell_type": "markdown",
   "id": "604fb24d",
   "metadata": {},
   "source": [
    "### Question 5\n",
    "    Write a function that moves all elements of one type to the end of the list.\n",
    "    Examples\n",
    "    move_to_end([1, 3, 2, 4, 4, 1], 1) ➞ [3, 2, 4, 4, 1, 1]\n",
    "    # Move all the 1s to the end of the array.\n",
    "    move_to_end([7, 8, 9, 1, 2, 3, 4], 9) ➞ [7, 8, 1, 2, 3, 4, 9]\n",
    "    move_to_end(['a', 'a', 'a', 'b'], 'a') ➞ ['b', 'a', 'a', 'a']"
   ]
  },
  {
   "cell_type": "code",
   "execution_count": 17,
   "id": "a00a8e9c",
   "metadata": {},
   "outputs": [],
   "source": [
    "def move_to_end(lst, value):\n",
    "    try:\n",
    "        end = []\n",
    "        for i in lst[::-1]:\n",
    "            if i == value:\n",
    "                lst.remove(i)\n",
    "                end.append(i)\n",
    "        lst.extend(end)\n",
    "        return lst\n",
    "    except Exception as e:\n",
    "        log.info(str(e))"
   ]
  },
  {
   "cell_type": "code",
   "execution_count": 18,
   "id": "d89814e1",
   "metadata": {},
   "outputs": [
    {
     "data": {
      "text/plain": [
       "[3, 2, 4, 4, 1, 1]"
      ]
     },
     "execution_count": 18,
     "metadata": {},
     "output_type": "execute_result"
    }
   ],
   "source": [
    "move_to_end([1, 3, 2, 4, 4, 1], 1)"
   ]
  },
  {
   "cell_type": "code",
   "execution_count": 19,
   "id": "6debe305",
   "metadata": {},
   "outputs": [
    {
     "data": {
      "text/plain": [
       "['b', 'a', 'a', 'a']"
      ]
     },
     "execution_count": 19,
     "metadata": {},
     "output_type": "execute_result"
    }
   ],
   "source": [
    "move_to_end([\"a\", \"a\", \"a\", \"b\"], \"a\")"
   ]
  },
  {
   "cell_type": "code",
   "execution_count": null,
   "id": "d00233d9",
   "metadata": {},
   "outputs": [],
   "source": []
  }
 ],
 "metadata": {
  "kernelspec": {
   "display_name": "Python 3",
   "language": "python",
   "name": "python3"
  },
  "language_info": {
   "codemirror_mode": {
    "name": "ipython",
    "version": 3
   },
   "file_extension": ".py",
   "mimetype": "text/x-python",
   "name": "python",
   "nbconvert_exporter": "python",
   "pygments_lexer": "ipython3",
   "version": "3.8.8"
  }
 },
 "nbformat": 4,
 "nbformat_minor": 5
}
